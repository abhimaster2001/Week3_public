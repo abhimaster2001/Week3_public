{
  "nbformat": 4,
  "nbformat_minor": 0,
  "metadata": {
    "colab": {
      "name": "02TextureClassificationWithConvNets.ipynb",
      "version": "0.3.2",
      "provenance": []
    },
    "kernelspec": {
      "display_name": "Python 2",
      "language": "python",
      "name": "python2"
    }
  },
  "cells": [
    {
      "metadata": {
        "id": "a7scg4EGMfYk",
        "colab_type": "text"
      },
      "cell_type": "markdown",
      "source": [
        "# Tissue Classification using Neural Networks\n",
        "In this lab we will explore the use of texture in images and traditional machine learning approaches such as clustering. The dataset we will be using is available here: http://dx.doi.org/10.5281/zenodo.53169. \n",
        "\n",
        "![alt text](https://www.researchgate.net/profile/Jakob_Kather/publication/303998214/figure/fig7/AS:391073710002224@1470250646407/Representative-images-from-our-dataset-Here-the-first-10-images-of-every-tissue-class.png)\n",
        "\n",
        "The above figure shows the 8 different classes of tissue we will be trying to identify. "
      ]
    },
    {
      "metadata": {
        "id": "W86Oi6dCMfYp",
        "colab_type": "code",
        "colab": {}
      },
      "cell_type": "code",
      "source": [
        "# Imports\n",
        "from __future__ import print_function\n",
        "import os\n",
        "import numpy as np\n",
        "import matplotlib.pylab as plt\n",
        "from sklearn.model_selection import train_test_split\n",
        "from tensorflow.keras import Sequential\n",
        "from tensorflow.keras.layers import Dense\n",
        "from tensorflow.keras.layers import Flatten\n",
        "from tensorflow.keras.layers import Conv2D\n",
        "from tensorflow.keras.layers import Dropout\n",
        "from tensorflow.keras.layers import MaxPool2D\n",
        "from tensorflow.keras.optimizers import SGD\n",
        "from tensorflow.keras.utils import to_categorical"
      ],
      "execution_count": 0,
      "outputs": []
    },
    {
      "metadata": {
        "id": "DfDmvdh7MfYx",
        "colab_type": "text"
      },
      "cell_type": "markdown",
      "source": [
        "## Step 1\n",
        "* Load the data (done for you)\n",
        " * The \"data\" variable stores 5000 images of shape 150x150. This means data has shape (5000, 150, 150). These images are loaded here as grayscale.\n",
        " * The \"labels\" variable stores 5000 labels (0-7). This means \"labels\" has shape (5000,)\n",
        "* Split data into training and testing subsets (left up to you)\n",
        " * Check out the sklearn function train_test_split from sklearn.model_selection"
      ]
    },
    {
      "metadata": {
        "id": "vTPG58OXMfYz",
        "colab_type": "code",
        "colab": {
          "base_uri": "https://localhost:8080/",
          "height": 102
        },
        "outputId": "5c2631ce-01b5-4d70-a28c-1e54c5824414"
      },
      "cell_type": "code",
      "source": [
        "! git clone https://github.com/BeaverWorksMedlytics/Week3_public.git\n",
        "\n",
        "# Build the path to the data folder. No need to change directories\n",
        "# There are a total of 6 files you will have to load\n",
        "data_dir = os.path.join( os.getcwd(), 'Week3_public', 'data', 'crc')"
      ],
      "execution_count": 2,
      "outputs": [
        {
          "output_type": "stream",
          "text": [
            "Cloning into 'Week3_public'...\n",
            "remote: Counting objects: 55, done.\u001b[K\n",
            "remote: Compressing objects: 100% (38/38), done.\u001b[K\n",
            "remote: Total 55 (delta 16), reused 47 (delta 14), pack-reused 0\u001b[K\n",
            "Unpacking objects: 100% (55/55), done.\n"
          ],
          "name": "stdout"
        }
      ]
    },
    {
      "metadata": {
        "id": "mF4iIwc8MfY4",
        "colab_type": "code",
        "colab": {
          "base_uri": "https://localhost:8080/",
          "height": 136
        },
        "outputId": "efb27947-3d07-4679-ebea-9bbb34d2f16b"
      },
      "cell_type": "code",
      "source": [
        "# Load data and split into training, testing sets\n",
        "y = np.load(os.path.join(data_dir, 'rgb01.npz'))\n",
        "labels = y['labels']\n",
        "data = y['rgb_data']\n",
        "data = data[:,0:64,0:64,0]\n",
        "label_str = y['label_str']\n",
        "label_str = label_str.tolist() # this is to convert label_str back to a dictionary\n",
        "y = []\n",
        "\n",
        "print(data.shape)\n",
        "for ii in range(2,4):\n",
        "    filename = os.path.join(data_dir, 'rgb0' + str(ii) + '.npz')\n",
        "    print('loading ', filename)\n",
        "    y = np.load(filename)\n",
        "    labels = np.append(labels, y['labels'], axis=0)\n",
        "    data = np.append(data, y['rgb_data'][:,0:64,0:64,0], axis=0)\n",
        "    print(data.shape)\n",
        "    y = []\n",
        "\n",
        "\n",
        "print( data.shape )\n",
        "print( labels.shape )"
      ],
      "execution_count": 9,
      "outputs": [
        {
          "output_type": "stream",
          "text": [
            "(1000, 64, 64)\n",
            "loading  /content/Week3_public/data/crc/rgb02.npz\n",
            "(2000, 64, 64)\n",
            "loading  /content/Week3_public/data/crc/rgb03.npz\n",
            "(3000, 64, 64)\n",
            "(3000, 64, 64)\n",
            "(3000,)\n"
          ],
          "name": "stdout"
        }
      ]
    },
    {
      "metadata": {
        "id": "EnTT4tyXMfY9",
        "colab_type": "code",
        "colab": {}
      },
      "cell_type": "code",
      "source": [
        "num_images, nrows, ncols = data.shape\n",
        "\n",
        "# split into training and testing sets\n",
        "testsize = .2\n",
        "X_train, X_test, y_train, y_test = train_test_split(data, labels, test_size= testsize)\n",
        "\n",
        "# convert the labels from 1-D arrays to categorical type \n",
        "X_train = X_train.reshape(int((1-testsize)*num_images), nrows*ncols)\n",
        "X_test = X_test.reshape(int((testsize)*num_images), nrows*ncols)"
      ],
      "execution_count": 0,
      "outputs": []
    },
    {
      "metadata": {
        "id": "PtlCeN4FMfZD",
        "colab_type": "text"
      },
      "cell_type": "markdown",
      "source": [
        "## Normalize data\n",
        "All images should be normalized to the range 0-1 by dividing by 255.\n",
        "\n",
        "#### Note\n",
        "* Using the La\\*b colorspace : If you convert your images to the La\\*b colorspace, the scaling factor will change. Each channel in this colorspace will have a different range and normalization of each space will involve scaling each channel separately. Additionally, the a\\* channel can have a negative range. This also needs to be taken into account. \n",
        "* Using the HSV/HSI colorspace : Similar considerations apply if you are using the HSV/HSI colorspace. The only difference is that the HSV/HSI colorspace will have all positive values."
      ]
    },
    {
      "metadata": {
        "id": "_FeL1EP5MfZF",
        "colab_type": "code",
        "colab": {}
      },
      "cell_type": "code",
      "source": [
        "# Assuming we are using the RGB colorspace\n",
        "# Normalize all images so that they are 0-1\n",
        "X_train = X_train.astype(\"float\")/255\n",
        "X_test = X_test.astype(\"float\")/255"
      ],
      "execution_count": 0,
      "outputs": []
    },
    {
      "metadata": {
        "id": "QAgbBOzBMfZI",
        "colab_type": "text"
      },
      "cell_type": "markdown",
      "source": [
        "## Step 2\n",
        "At this point, the data has been split into training and testing sets and normalized. We will now design a fully connected neural network for texture classification. \n",
        "\n",
        "\n",
        "![alt text](http://adventuresinmachinelearning.com/wp-content/uploads/2017/04/CNN-example-block-diagram.jpg)\n",
        "\n",
        "\n",
        "( Image from http://adventuresinmachinelearning.com/keras-tutorial-cnn-11-lines/ )\n",
        "\n",
        "When designing a fully connected network for classification, we have several decisions to make.\n",
        "\n",
        "**Network Architecuture**\n",
        "* How many layers will our network have ?\n",
        "* How many convolutional filters per layer ?\n",
        "    * What is an appropriate filter size ? \n",
        "* What is an appropriate batch size, learning rate and number of training epochs ?\n",
        "\n",
        "**Data input**\n",
        "* Do we use the raw data ?\n",
        "    * RGB or just gray channel ?\n",
        "* Does the use of different colorspaces lead to better results for a given network architecture ?\n",
        "* Can we use any of the texture features from the previous lab as inputs to this model ?\n",
        "* How does data augmentation affect the results ? \n",
        "\n",
        "Other considerations, we will not be exploring :\n",
        "* What is the trade-off between input data sizes and batch size ?\n",
        "* Is the GPU always the appropriate platform for training ?\n",
        "* How does hardware influence inputs and batch sizes for a given desired accuracy ?"
      ]
    },
    {
      "metadata": {
        "id": "82ImTGQ_MfZJ",
        "colab_type": "code",
        "colab": {}
      },
      "cell_type": "code",
      "source": [
        "# Define the data shapes based on your decision to use rgb or grayscale or other colorpsaces or texture features or \n",
        "# some combination of these inputs\n",
        "num_classes = 8 \n",
        "input_shape = nrows, ncols, 1\n",
        "train_data = X_train.reshape(X_train.shape[0], nrows, ncols, 1)\n",
        "test_data = X_test.reshape(X_test.shape[0], nrows, ncols, 1)"
      ],
      "execution_count": 0,
      "outputs": []
    },
    {
      "metadata": {
        "id": "Q2iSGtOuMfZP",
        "colab_type": "text"
      },
      "cell_type": "markdown",
      "source": [
        "## Step 3\n",
        "Design your network here using Keras"
      ]
    },
    {
      "metadata": {
        "id": "OsffMC7mMfZQ",
        "colab_type": "code",
        "colab": {}
      },
      "cell_type": "code",
      "source": [
        "import tensorflow as tf\n",
        "\"\"\"# Create your network\n",
        "model = []\n",
        "model = Sequential()\n",
        "\n",
        "# Add input layer\n",
        "\n",
        "# Add fully connected layers \n",
        "# See keras.io for Conv2D, MaxPool2D, Dropout documentation\n",
        "\n",
        "# Add final output layer - This should have as many neurons as the number\n",
        "# of classes we are trying to identify\n",
        "model.add( )\n",
        "\n",
        "model.summary()\n",
        "\"\"\"\n",
        "model = tf.keras.Sequential()\n",
        "model.add(tf.keras.layers.Dense(512, activation = tf.nn.relu, input_shape=X_train[0].shape))   # hidden layer with 512 units and relu activation\n",
        "model.add(tf.keras.layers.Dense(10, activation = tf.nn.softmax)) \n",
        "model.add(tf.keras.layers.Dense(10, activation = tf.nn.softmax))\n",
        "model.add(Dropout(.2))\n",
        "model.add(tf.keras.layers.Dense(10, activation = tf.nn.softmax))\n",
        "model.add(tf.keras.layers.Dense(10, activation = tf.nn.softmax))# output layer with 10 units and softmax activation\n",
        "\n"
      ],
      "execution_count": 0,
      "outputs": []
    },
    {
      "metadata": {
        "id": "3DwOWHAVMfZU",
        "colab_type": "text"
      },
      "cell_type": "markdown",
      "source": [
        "## Step 4\n",
        "Compile the model you designed. Compiltation of the Keras model results in the initialization of model weights and sets other model properties."
      ]
    },
    {
      "metadata": {
        "id": "azIn2h-PMfZV",
        "colab_type": "code",
        "colab": {
          "base_uri": "https://localhost:8080/",
          "height": 340
        },
        "outputId": "a4e05893-4a45-4dac-f8e0-62551b76ac2d"
      },
      "cell_type": "code",
      "source": [
        "model.compile(loss = 'sparse_categorical_crossentropy',\n",
        "             optimizer = 'rmsprop',\n",
        "             metrics=[\"accuracy\"])\n",
        "\n",
        "model.summary()"
      ],
      "execution_count": 23,
      "outputs": [
        {
          "output_type": "stream",
          "text": [
            "_________________________________________________________________\n",
            "Layer (type)                 Output Shape              Param #   \n",
            "=================================================================\n",
            "dense_2 (Dense)              (None, 512)               2097664   \n",
            "_________________________________________________________________\n",
            "dense_3 (Dense)              (None, 10)                5130      \n",
            "_________________________________________________________________\n",
            "dense_4 (Dense)              (None, 10)                110       \n",
            "_________________________________________________________________\n",
            "dropout (Dropout)            (None, 10)                0         \n",
            "_________________________________________________________________\n",
            "dense_5 (Dense)              (None, 10)                110       \n",
            "_________________________________________________________________\n",
            "dense_6 (Dense)              (None, 10)                110       \n",
            "=================================================================\n",
            "Total params: 2,103,124\n",
            "Trainable params: 2,103,124\n",
            "Non-trainable params: 0\n",
            "_________________________________________________________________\n"
          ],
          "name": "stdout"
        }
      ]
    },
    {
      "metadata": {
        "id": "9afYIYb6MfZZ",
        "colab_type": "text"
      },
      "cell_type": "markdown",
      "source": [
        "## Step 5\n",
        "Train model"
      ]
    },
    {
      "metadata": {
        "id": "_ngFO-dYMfZa",
        "colab_type": "code",
        "colab": {
          "base_uri": "https://localhost:8080/",
          "height": 34217
        },
        "outputId": "647958b9-a82e-47d8-85c5-3f4b66a233c4"
      },
      "cell_type": "code",
      "source": [
        "y = model.fit(X_train, y_train, epochs=1000)\n",
        "plt.plot(history.history['acc'])\n",
        "plt.show()"
      ],
      "execution_count": 24,
      "outputs": [
        {
          "output_type": "stream",
          "text": [
            "Epoch 1/1000\n",
            "2400/2400 [==============================] - 2s 697us/step - loss: 2.2707 - acc: 0.1071\n",
            "Epoch 2/1000\n",
            "2400/2400 [==============================] - 2s 728us/step - loss: 2.1450 - acc: 0.2071\n",
            "Epoch 3/1000\n",
            "2400/2400 [==============================] - 2s 826us/step - loss: 2.0398 - acc: 0.2054\n",
            "Epoch 4/1000\n",
            "2400/2400 [==============================] - 2s 826us/step - loss: 1.9554 - acc: 0.2079\n",
            "Epoch 5/1000\n",
            "2400/2400 [==============================] - 2s 815us/step - loss: 1.8876 - acc: 0.1967\n",
            "Epoch 6/1000\n",
            "2400/2400 [==============================] - 2s 829us/step - loss: 1.8329 - acc: 0.2125\n",
            "Epoch 7/1000\n",
            "2080/2400 [=========================>....] - ETA: 0s - loss: 1.7909 - acc: 0.2197"
          ],
          "name": "stdout"
        },
        {
          "output_type": "stream",
          "text": [
            "2400/2400 [==============================] - 2s 827us/step - loss: 1.7891 - acc: 0.2179\n",
            "Epoch 8/1000\n",
            "2400/2400 [==============================] - 2s 870us/step - loss: 1.7555 - acc: 0.2179\n",
            "Epoch 9/1000\n",
            "2400/2400 [==============================] - 2s 923us/step - loss: 1.7272 - acc: 0.2175\n",
            "Epoch 10/1000\n",
            "2400/2400 [==============================] - 2s 900us/step - loss: 1.7037 - acc: 0.2196\n",
            "Epoch 11/1000\n",
            "2400/2400 [==============================] - 2s 942us/step - loss: 1.6823 - acc: 0.2437\n",
            "Epoch 12/1000\n",
            "2400/2400 [==============================] - 2s 942us/step - loss: 1.6639 - acc: 0.2617\n",
            "Epoch 13/1000\n",
            "2208/2400 [==========================>...] - ETA: 0s - loss: 1.6459 - acc: 0.3288"
          ],
          "name": "stdout"
        },
        {
          "output_type": "stream",
          "text": [
            "2400/2400 [==============================] - 2s 922us/step - loss: 1.6456 - acc: 0.3271\n",
            "Epoch 14/1000\n",
            "2400/2400 [==============================] - 2s 934us/step - loss: 1.6274 - acc: 0.3617\n",
            "Epoch 15/1000\n",
            "2400/2400 [==============================] - 2s 926us/step - loss: 1.6068 - acc: 0.3837\n",
            "Epoch 16/1000\n",
            "2400/2400 [==============================] - 2s 905us/step - loss: 1.5824 - acc: 0.3971\n",
            "Epoch 17/1000\n",
            "2400/2400 [==============================] - 2s 910us/step - loss: 1.5613 - acc: 0.3958\n",
            "Epoch 18/1000\n",
            "2400/2400 [==============================] - 2s 901us/step - loss: 1.5353 - acc: 0.3933\n",
            "Epoch 19/1000\n",
            "2144/2400 [=========================>....] - ETA: 0s - loss: 1.5098 - acc: 0.3955"
          ],
          "name": "stdout"
        },
        {
          "output_type": "stream",
          "text": [
            "2400/2400 [==============================] - 2s 902us/step - loss: 1.5090 - acc: 0.3929\n",
            "Epoch 20/1000\n",
            "2400/2400 [==============================] - 2s 899us/step - loss: 1.4860 - acc: 0.3962\n",
            "Epoch 21/1000\n",
            "2400/2400 [==============================] - 2s 891us/step - loss: 1.4633 - acc: 0.4008\n",
            "Epoch 22/1000\n",
            "2400/2400 [==============================] - 2s 900us/step - loss: 1.4433 - acc: 0.3971\n",
            "Epoch 23/1000\n",
            "2400/2400 [==============================] - 2s 900us/step - loss: 1.4246 - acc: 0.3967\n",
            "Epoch 24/1000\n",
            "2400/2400 [==============================] - 2s 888us/step - loss: 1.4068 - acc: 0.3900\n",
            "Epoch 25/1000\n",
            "2144/2400 [=========================>....] - ETA: 0s - loss: 1.3979 - acc: 0.4016"
          ],
          "name": "stdout"
        },
        {
          "output_type": "stream",
          "text": [
            "2400/2400 [==============================] - 2s 892us/step - loss: 1.3960 - acc: 0.4012\n",
            "Epoch 26/1000\n",
            "2400/2400 [==============================] - 2s 900us/step - loss: 1.3867 - acc: 0.3946\n",
            "Epoch 27/1000\n",
            "2400/2400 [==============================] - 2s 914us/step - loss: 1.3686 - acc: 0.3992\n",
            "Epoch 28/1000\n",
            "2400/2400 [==============================] - 2s 913us/step - loss: 1.3593 - acc: 0.3996\n",
            "Epoch 29/1000\n",
            "2400/2400 [==============================] - 2s 898us/step - loss: 1.3510 - acc: 0.3987\n",
            "Epoch 30/1000\n",
            "2400/2400 [==============================] - 2s 902us/step - loss: 1.3483 - acc: 0.4012\n",
            "Epoch 31/1000\n",
            "2144/2400 [=========================>....] - ETA: 0s - loss: 1.3346 - acc: 0.4035"
          ],
          "name": "stdout"
        },
        {
          "output_type": "stream",
          "text": [
            "2400/2400 [==============================] - 2s 904us/step - loss: 1.3362 - acc: 0.3975\n",
            "Epoch 32/1000\n",
            "2400/2400 [==============================] - 2s 899us/step - loss: 1.3304 - acc: 0.4046\n",
            "Epoch 33/1000\n",
            "2400/2400 [==============================] - 2s 918us/step - loss: 1.3261 - acc: 0.4088\n",
            "Epoch 34/1000\n",
            "2400/2400 [==============================] - 2s 921us/step - loss: 1.3256 - acc: 0.3942\n",
            "Epoch 35/1000\n",
            "2400/2400 [==============================] - 2s 909us/step - loss: 1.3226 - acc: 0.4083\n",
            "Epoch 36/1000\n",
            "2400/2400 [==============================] - 2s 924us/step - loss: 1.3074 - acc: 0.4083\n",
            "Epoch 37/1000\n",
            "2144/2400 [=========================>....] - ETA: 0s - loss: 1.2997 - acc: 0.4146"
          ],
          "name": "stdout"
        },
        {
          "output_type": "stream",
          "text": [
            "2400/2400 [==============================] - 2s 920us/step - loss: 1.3091 - acc: 0.4113\n",
            "Epoch 38/1000\n",
            "2400/2400 [==============================] - 2s 921us/step - loss: 1.3059 - acc: 0.4029\n",
            "Epoch 39/1000\n",
            "2400/2400 [==============================] - 2s 930us/step - loss: 1.2994 - acc: 0.4179\n",
            "Epoch 40/1000\n",
            "2400/2400 [==============================] - 2s 906us/step - loss: 1.2925 - acc: 0.4121\n",
            "Epoch 41/1000\n",
            "2400/2400 [==============================] - 2s 892us/step - loss: 1.2948 - acc: 0.4138\n",
            "Epoch 42/1000\n",
            "2400/2400 [==============================] - 2s 875us/step - loss: 1.2829 - acc: 0.4233\n",
            "Epoch 43/1000\n",
            "2208/2400 [==========================>...] - ETA: 0s - loss: 1.2752 - acc: 0.4198"
          ],
          "name": "stdout"
        },
        {
          "output_type": "stream",
          "text": [
            "2400/2400 [==============================] - 2s 897us/step - loss: 1.2735 - acc: 0.4225\n",
            "Epoch 44/1000\n",
            "2400/2400 [==============================] - 2s 889us/step - loss: 1.2758 - acc: 0.4229\n",
            "Epoch 45/1000\n",
            "2400/2400 [==============================] - 2s 891us/step - loss: 1.2716 - acc: 0.4363\n",
            "Epoch 46/1000\n",
            "2400/2400 [==============================] - 2s 904us/step - loss: 1.2640 - acc: 0.4392\n",
            "Epoch 47/1000\n",
            "2400/2400 [==============================] - 2s 885us/step - loss: 1.2665 - acc: 0.4283\n",
            "Epoch 48/1000\n",
            "2400/2400 [==============================] - 2s 886us/step - loss: 1.2599 - acc: 0.4275\n",
            "Epoch 49/1000\n",
            "2144/2400 [=========================>....] - ETA: 0s - loss: 1.2552 - acc: 0.4282"
          ],
          "name": "stdout"
        },
        {
          "output_type": "stream",
          "text": [
            "2400/2400 [==============================] - 2s 893us/step - loss: 1.2590 - acc: 0.4242\n",
            "Epoch 50/1000\n",
            "2400/2400 [==============================] - 2s 899us/step - loss: 1.2485 - acc: 0.4325\n",
            "Epoch 51/1000\n",
            "2400/2400 [==============================] - 2s 885us/step - loss: 1.2489 - acc: 0.4283\n",
            "Epoch 52/1000\n",
            "2400/2400 [==============================] - 2s 888us/step - loss: 1.2431 - acc: 0.4500\n",
            "Epoch 53/1000\n",
            "2400/2400 [==============================] - 2s 898us/step - loss: 1.2534 - acc: 0.4371\n",
            "Epoch 54/1000\n",
            "2400/2400 [==============================] - 2s 896us/step - loss: 1.2409 - acc: 0.4383\n",
            "Epoch 55/1000\n",
            "2208/2400 [==========================>...] - ETA: 0s - loss: 1.2347 - acc: 0.4343"
          ],
          "name": "stdout"
        },
        {
          "output_type": "stream",
          "text": [
            "2400/2400 [==============================] - 2s 897us/step - loss: 1.2364 - acc: 0.4379\n",
            "Epoch 56/1000\n",
            "2400/2400 [==============================] - 2s 900us/step - loss: 1.2350 - acc: 0.4483\n",
            "Epoch 57/1000\n",
            "2400/2400 [==============================] - 2s 884us/step - loss: 1.2366 - acc: 0.4317\n",
            "Epoch 58/1000\n",
            "2400/2400 [==============================] - 2s 903us/step - loss: 1.2257 - acc: 0.4575\n",
            "Epoch 59/1000\n",
            "2400/2400 [==============================] - 2s 896us/step - loss: 1.2340 - acc: 0.4471\n",
            "Epoch 60/1000\n",
            "2400/2400 [==============================] - 2s 882us/step - loss: 1.2246 - acc: 0.4492\n",
            "Epoch 61/1000\n",
            "2272/2400 [===========================>..] - ETA: 0s - loss: 1.2177 - acc: 0.4551"
          ],
          "name": "stdout"
        },
        {
          "output_type": "stream",
          "text": [
            "2400/2400 [==============================] - 2s 885us/step - loss: 1.2206 - acc: 0.4562\n",
            "Epoch 62/1000\n",
            "2400/2400 [==============================] - 2s 876us/step - loss: 1.2182 - acc: 0.4537\n",
            "Epoch 63/1000\n",
            "2400/2400 [==============================] - 2s 869us/step - loss: 1.2159 - acc: 0.4517\n",
            "Epoch 64/1000\n",
            "2400/2400 [==============================] - 2s 859us/step - loss: 1.2110 - acc: 0.4496\n",
            "Epoch 65/1000\n",
            "2400/2400 [==============================] - 2s 866us/step - loss: 1.2090 - acc: 0.4517\n",
            "Epoch 66/1000\n",
            "2400/2400 [==============================] - 2s 872us/step - loss: 1.2173 - acc: 0.4533\n",
            "Epoch 67/1000\n",
            "2272/2400 [===========================>..] - ETA: 0s - loss: 1.2032 - acc: 0.4710"
          ],
          "name": "stdout"
        },
        {
          "output_type": "stream",
          "text": [
            "2400/2400 [==============================] - 2s 907us/step - loss: 1.2010 - acc: 0.4725\n",
            "Epoch 68/1000\n",
            "2400/2400 [==============================] - 2s 918us/step - loss: 1.2114 - acc: 0.4487\n",
            "Epoch 69/1000\n",
            "2400/2400 [==============================] - 2s 903us/step - loss: 1.2059 - acc: 0.4567\n",
            "Epoch 70/1000\n",
            "2400/2400 [==============================] - 2s 903us/step - loss: 1.2012 - acc: 0.4625\n",
            "Epoch 71/1000\n",
            "2400/2400 [==============================] - 2s 886us/step - loss: 1.2020 - acc: 0.4583\n",
            "Epoch 72/1000\n",
            "2400/2400 [==============================] - 2s 887us/step - loss: 1.1870 - acc: 0.4688\n",
            "Epoch 73/1000\n",
            "2144/2400 [=========================>....] - ETA: 0s - loss: 1.1826 - acc: 0.4627"
          ],
          "name": "stdout"
        },
        {
          "output_type": "stream",
          "text": [
            "2400/2400 [==============================] - 2s 893us/step - loss: 1.1929 - acc: 0.4583\n",
            "Epoch 74/1000\n",
            "2400/2400 [==============================] - 2s 893us/step - loss: 1.1893 - acc: 0.4533\n",
            "Epoch 75/1000\n",
            "2400/2400 [==============================] - 2s 897us/step - loss: 1.1859 - acc: 0.4642\n",
            "Epoch 76/1000\n",
            "2400/2400 [==============================] - 2s 903us/step - loss: 1.1872 - acc: 0.4533\n",
            "Epoch 77/1000\n",
            "2400/2400 [==============================] - 2s 899us/step - loss: 1.1841 - acc: 0.4567\n",
            "Epoch 78/1000\n",
            "2400/2400 [==============================] - 2s 908us/step - loss: 1.1790 - acc: 0.4629\n",
            "Epoch 79/1000\n",
            "2144/2400 [=========================>....] - ETA: 0s - loss: 1.1820 - acc: 0.4660"
          ],
          "name": "stdout"
        },
        {
          "output_type": "stream",
          "text": [
            "2400/2400 [==============================] - 2s 895us/step - loss: 1.1780 - acc: 0.4692\n",
            "Epoch 80/1000\n",
            "2400/2400 [==============================] - 2s 915us/step - loss: 1.1746 - acc: 0.4754\n",
            "Epoch 81/1000\n",
            "2400/2400 [==============================] - 2s 913us/step - loss: 1.1721 - acc: 0.4717\n",
            "Epoch 82/1000\n",
            "2400/2400 [==============================] - 2s 934us/step - loss: 1.1619 - acc: 0.4838\n",
            "Epoch 83/1000\n",
            "2400/2400 [==============================] - 2s 911us/step - loss: 1.1608 - acc: 0.4729\n",
            "Epoch 84/1000\n",
            "2400/2400 [==============================] - 2s 902us/step - loss: 1.1650 - acc: 0.4763\n",
            "Epoch 85/1000\n",
            "2144/2400 [=========================>....] - ETA: 0s - loss: 1.1639 - acc: 0.4855"
          ],
          "name": "stdout"
        },
        {
          "output_type": "stream",
          "text": [
            "2400/2400 [==============================] - 2s 916us/step - loss: 1.1638 - acc: 0.4813\n",
            "Epoch 86/1000\n",
            "2400/2400 [==============================] - 2s 910us/step - loss: 1.1608 - acc: 0.4771\n",
            "Epoch 87/1000\n",
            "2400/2400 [==============================] - 2s 911us/step - loss: 1.1510 - acc: 0.4854\n",
            "Epoch 88/1000\n",
            "2400/2400 [==============================] - 2s 906us/step - loss: 1.1610 - acc: 0.4754\n",
            "Epoch 89/1000\n",
            "2400/2400 [==============================] - 2s 907us/step - loss: 1.1614 - acc: 0.4808\n",
            "Epoch 90/1000\n",
            "2400/2400 [==============================] - 2s 890us/step - loss: 1.1469 - acc: 0.4862\n",
            "Epoch 91/1000\n",
            "2144/2400 [=========================>....] - ETA: 0s - loss: 1.1372 - acc: 0.4939"
          ],
          "name": "stdout"
        },
        {
          "output_type": "stream",
          "text": [
            "2400/2400 [==============================] - 2s 890us/step - loss: 1.1402 - acc: 0.4896\n",
            "Epoch 92/1000\n",
            "2400/2400 [==============================] - 2s 890us/step - loss: 1.1489 - acc: 0.4838\n",
            "Epoch 93/1000\n",
            "2400/2400 [==============================] - 2s 895us/step - loss: 1.1374 - acc: 0.4975\n",
            "Epoch 94/1000\n",
            "2400/2400 [==============================] - 2s 901us/step - loss: 1.1392 - acc: 0.4900\n",
            "Epoch 95/1000\n",
            "2400/2400 [==============================] - 2s 903us/step - loss: 1.1390 - acc: 0.4971\n",
            "Epoch 96/1000\n",
            "2400/2400 [==============================] - 2s 901us/step - loss: 1.1337 - acc: 0.5037\n",
            "Epoch 97/1000\n",
            "2144/2400 [=========================>....] - ETA: 0s - loss: 1.1357 - acc: 0.5000"
          ],
          "name": "stdout"
        },
        {
          "output_type": "stream",
          "text": [
            "2400/2400 [==============================] - 2s 895us/step - loss: 1.1305 - acc: 0.4996\n",
            "Epoch 98/1000\n",
            "2400/2400 [==============================] - 2s 903us/step - loss: 1.1324 - acc: 0.5042\n",
            "Epoch 99/1000\n",
            "2400/2400 [==============================] - 3s 1ms/step - loss: 1.1287 - acc: 0.4983\n",
            "Epoch 100/1000\n",
            "2400/2400 [==============================] - 3s 1ms/step - loss: 1.1181 - acc: 0.5079\n",
            "Epoch 101/1000\n",
            "2400/2400 [==============================] - 2s 894us/step - loss: 1.1209 - acc: 0.5108\n",
            "Epoch 102/1000\n",
            "2400/2400 [==============================] - 2s 898us/step - loss: 1.1243 - acc: 0.5062\n",
            "Epoch 103/1000\n",
            "2144/2400 [=========================>....] - ETA: 0s - loss: 1.1118 - acc: 0.5177"
          ],
          "name": "stdout"
        },
        {
          "output_type": "stream",
          "text": [
            "2400/2400 [==============================] - 2s 902us/step - loss: 1.1191 - acc: 0.5167\n",
            "Epoch 104/1000\n",
            "2400/2400 [==============================] - 2s 899us/step - loss: 1.1123 - acc: 0.5042\n",
            "Epoch 105/1000\n",
            "2400/2400 [==============================] - 2s 895us/step - loss: 1.1044 - acc: 0.5171\n",
            "Epoch 106/1000\n",
            "2400/2400 [==============================] - 2s 898us/step - loss: 1.1084 - acc: 0.5104\n",
            "Epoch 107/1000\n",
            "2400/2400 [==============================] - 2s 866us/step - loss: 1.1086 - acc: 0.5179\n",
            "Epoch 108/1000\n",
            "2400/2400 [==============================] - 2s 898us/step - loss: 1.1031 - acc: 0.5117\n",
            "Epoch 109/1000\n",
            "2144/2400 [=========================>....] - ETA: 0s - loss: 1.1007 - acc: 0.5280"
          ],
          "name": "stdout"
        },
        {
          "output_type": "stream",
          "text": [
            "2400/2400 [==============================] - 2s 905us/step - loss: 1.1083 - acc: 0.5200\n",
            "Epoch 110/1000\n",
            "2400/2400 [==============================] - 2s 878us/step - loss: 1.0948 - acc: 0.5342\n",
            "Epoch 111/1000\n",
            "2400/2400 [==============================] - 2s 896us/step - loss: 1.1015 - acc: 0.5179\n",
            "Epoch 112/1000\n",
            "2400/2400 [==============================] - 2s 886us/step - loss: 1.0904 - acc: 0.5225\n",
            "Epoch 113/1000\n",
            "2400/2400 [==============================] - 2s 892us/step - loss: 1.0900 - acc: 0.5267\n",
            "Epoch 114/1000\n",
            "2400/2400 [==============================] - 2s 885us/step - loss: 1.0935 - acc: 0.5292\n",
            "Epoch 115/1000\n",
            "2016/2400 [========================>.....] - ETA: 0s - loss: 1.0932 - acc: 0.5223"
          ],
          "name": "stdout"
        },
        {
          "output_type": "stream",
          "text": [
            "2400/2400 [==============================] - 2s 882us/step - loss: 1.0903 - acc: 0.5204\n",
            "Epoch 116/1000\n",
            "2400/2400 [==============================] - 2s 884us/step - loss: 1.0882 - acc: 0.5146\n",
            "Epoch 117/1000\n",
            "2400/2400 [==============================] - 2s 888us/step - loss: 1.0907 - acc: 0.5200\n",
            "Epoch 118/1000\n",
            "2400/2400 [==============================] - 2s 896us/step - loss: 1.0895 - acc: 0.5125\n",
            "Epoch 119/1000\n",
            "2400/2400 [==============================] - 2s 899us/step - loss: 1.0851 - acc: 0.5179\n",
            "Epoch 120/1000\n",
            "2400/2400 [==============================] - 2s 887us/step - loss: 1.0791 - acc: 0.5300\n",
            "Epoch 121/1000\n",
            "1888/2400 [======================>.......] - ETA: 0s - loss: 1.0741 - acc: 0.5360"
          ],
          "name": "stdout"
        },
        {
          "output_type": "stream",
          "text": [
            "2400/2400 [==============================] - 2s 901us/step - loss: 1.0772 - acc: 0.5283\n",
            "Epoch 122/1000\n",
            "2400/2400 [==============================] - 2s 892us/step - loss: 1.0814 - acc: 0.5292\n",
            "Epoch 123/1000\n",
            "2400/2400 [==============================] - 2s 897us/step - loss: 1.0808 - acc: 0.5275\n",
            "Epoch 124/1000\n",
            "2400/2400 [==============================] - 2s 894us/step - loss: 1.0748 - acc: 0.5221\n",
            "Epoch 125/1000\n",
            "2400/2400 [==============================] - 2s 890us/step - loss: 1.0710 - acc: 0.5233\n",
            "Epoch 126/1000\n",
            "2400/2400 [==============================] - 2s 873us/step - loss: 1.0720 - acc: 0.5267\n",
            "Epoch 127/1000\n",
            "2144/2400 [=========================>....] - ETA: 0s - loss: 1.0685 - acc: 0.5196"
          ],
          "name": "stdout"
        },
        {
          "output_type": "stream",
          "text": [
            "2400/2400 [==============================] - 2s 873us/step - loss: 1.0686 - acc: 0.5171\n",
            "Epoch 128/1000\n",
            "2400/2400 [==============================] - 2s 889us/step - loss: 1.0644 - acc: 0.5354\n",
            "Epoch 129/1000\n",
            "2400/2400 [==============================] - 2s 884us/step - loss: 1.0697 - acc: 0.5325\n",
            "Epoch 130/1000\n",
            "2400/2400 [==============================] - 2s 888us/step - loss: 1.0661 - acc: 0.5467\n",
            "Epoch 131/1000\n",
            "2400/2400 [==============================] - 2s 885us/step - loss: 1.0734 - acc: 0.5217\n",
            "Epoch 132/1000\n",
            "2400/2400 [==============================] - 2s 883us/step - loss: 1.0592 - acc: 0.5379\n",
            "Epoch 133/1000\n",
            "2144/2400 [=========================>....] - ETA: 0s - loss: 1.0573 - acc: 0.5312"
          ],
          "name": "stdout"
        },
        {
          "output_type": "stream",
          "text": [
            "2400/2400 [==============================] - 2s 880us/step - loss: 1.0687 - acc: 0.5279\n",
            "Epoch 134/1000\n",
            "2400/2400 [==============================] - 2s 882us/step - loss: 1.0583 - acc: 0.5433\n",
            "Epoch 135/1000\n",
            "2400/2400 [==============================] - 2s 879us/step - loss: 1.0530 - acc: 0.5392\n",
            "Epoch 136/1000\n",
            "2400/2400 [==============================] - 2s 887us/step - loss: 1.0633 - acc: 0.5392\n",
            "Epoch 137/1000\n",
            "2400/2400 [==============================] - 2s 874us/step - loss: 1.0580 - acc: 0.5346\n",
            "Epoch 138/1000\n",
            "2400/2400 [==============================] - 2s 891us/step - loss: 1.0546 - acc: 0.5404\n",
            "Epoch 139/1000\n",
            "2016/2400 [========================>.....] - ETA: 0s - loss: 1.0534 - acc: 0.5298"
          ],
          "name": "stdout"
        },
        {
          "output_type": "stream",
          "text": [
            "2400/2400 [==============================] - 2s 883us/step - loss: 1.0572 - acc: 0.5371\n",
            "Epoch 140/1000\n",
            "2400/2400 [==============================] - 2s 887us/step - loss: 1.0562 - acc: 0.5417\n",
            "Epoch 141/1000\n",
            "2400/2400 [==============================] - 2s 883us/step - loss: 1.0518 - acc: 0.5475\n",
            "Epoch 142/1000\n",
            "2400/2400 [==============================] - 2s 895us/step - loss: 1.0625 - acc: 0.5358\n",
            "Epoch 143/1000\n",
            "2400/2400 [==============================] - 2s 900us/step - loss: 1.0505 - acc: 0.5283\n",
            "Epoch 144/1000\n",
            "2400/2400 [==============================] - 2s 934us/step - loss: 1.0443 - acc: 0.5392\n",
            "Epoch 145/1000\n",
            "2144/2400 [=========================>....] - ETA: 0s - loss: 1.0405 - acc: 0.5406"
          ],
          "name": "stdout"
        },
        {
          "output_type": "stream",
          "text": [
            "2400/2400 [==============================] - 2s 916us/step - loss: 1.0454 - acc: 0.5387\n",
            "Epoch 146/1000\n",
            "2400/2400 [==============================] - 2s 896us/step - loss: 1.0503 - acc: 0.5283\n",
            "Epoch 147/1000\n",
            "2400/2400 [==============================] - 2s 887us/step - loss: 1.0394 - acc: 0.5525\n",
            "Epoch 148/1000\n",
            "2400/2400 [==============================] - 2s 880us/step - loss: 1.0468 - acc: 0.5408\n",
            "Epoch 149/1000\n",
            "2400/2400 [==============================] - 2s 892us/step - loss: 1.0394 - acc: 0.5350\n",
            "Epoch 150/1000\n",
            "2400/2400 [==============================] - 2s 878us/step - loss: 1.0418 - acc: 0.5479\n",
            "Epoch 151/1000\n",
            "2080/2400 [=========================>....] - ETA: 0s - loss: 1.0473 - acc: 0.5505"
          ],
          "name": "stdout"
        },
        {
          "output_type": "stream",
          "text": [
            "2400/2400 [==============================] - 2s 894us/step - loss: 1.0462 - acc: 0.5500\n",
            "Epoch 152/1000\n",
            "2400/2400 [==============================] - 2s 898us/step - loss: 1.0419 - acc: 0.5433\n",
            "Epoch 153/1000\n",
            "2400/2400 [==============================] - 2s 887us/step - loss: 1.0416 - acc: 0.5312\n",
            "Epoch 154/1000\n",
            "2400/2400 [==============================] - 2s 891us/step - loss: 1.0375 - acc: 0.5387\n",
            "Epoch 155/1000\n",
            "2400/2400 [==============================] - 2s 878us/step - loss: 1.0360 - acc: 0.5463\n",
            "Epoch 156/1000\n",
            "2400/2400 [==============================] - 2s 894us/step - loss: 1.0374 - acc: 0.5475\n",
            "Epoch 157/1000\n",
            "1952/2400 [=======================>......] - ETA: 0s - loss: 1.0397 - acc: 0.5502"
          ],
          "name": "stdout"
        },
        {
          "output_type": "stream",
          "text": [
            "2400/2400 [==============================] - 2s 881us/step - loss: 1.0325 - acc: 0.5529\n",
            "Epoch 158/1000\n",
            "2400/2400 [==============================] - 2s 898us/step - loss: 1.0360 - acc: 0.5579\n",
            "Epoch 159/1000\n",
            "2400/2400 [==============================] - 2s 878us/step - loss: 1.0306 - acc: 0.5392\n",
            "Epoch 160/1000\n",
            "2400/2400 [==============================] - 2s 896us/step - loss: 1.0330 - acc: 0.5467\n",
            "Epoch 161/1000\n",
            "2400/2400 [==============================] - 2s 885us/step - loss: 1.0319 - acc: 0.5504\n",
            "Epoch 162/1000\n",
            "2400/2400 [==============================] - 2s 885us/step - loss: 1.0293 - acc: 0.5446\n",
            "Epoch 163/1000\n",
            "2016/2400 [========================>.....] - ETA: 0s - loss: 1.0290 - acc: 0.5551"
          ],
          "name": "stdout"
        },
        {
          "output_type": "stream",
          "text": [
            "2400/2400 [==============================] - 2s 890us/step - loss: 1.0336 - acc: 0.5471\n",
            "Epoch 164/1000\n",
            "2400/2400 [==============================] - 2s 846us/step - loss: 1.0292 - acc: 0.5508\n",
            "Epoch 165/1000\n",
            "2400/2400 [==============================] - 2s 806us/step - loss: 1.0294 - acc: 0.5558\n",
            "Epoch 166/1000\n",
            "2400/2400 [==============================] - 2s 821us/step - loss: 1.0200 - acc: 0.5467\n",
            "Epoch 167/1000\n",
            "2400/2400 [==============================] - 2s 801us/step - loss: 1.0251 - acc: 0.5479\n",
            "Epoch 168/1000\n",
            "2400/2400 [==============================] - 2s 800us/step - loss: 1.0168 - acc: 0.5588\n",
            "Epoch 169/1000\n",
            "2400/2400 [==============================] - 2s 823us/step - loss: 1.0201 - acc: 0.5604\n",
            "Epoch 170/1000\n",
            "  32/2400 [..............................] - ETA: 1s - loss: 1.0404 - acc: 0.4688"
          ],
          "name": "stdout"
        },
        {
          "output_type": "stream",
          "text": [
            "2400/2400 [==============================] - 2s 816us/step - loss: 1.0213 - acc: 0.5567\n",
            "Epoch 171/1000\n",
            "2400/2400 [==============================] - 2s 820us/step - loss: 1.0125 - acc: 0.5629\n",
            "Epoch 172/1000\n",
            "2400/2400 [==============================] - 2s 792us/step - loss: 1.0159 - acc: 0.5613\n",
            "Epoch 173/1000\n",
            "2400/2400 [==============================] - 2s 809us/step - loss: 1.0215 - acc: 0.5500\n",
            "Epoch 174/1000\n",
            "2400/2400 [==============================] - 2s 831us/step - loss: 1.0205 - acc: 0.5625\n",
            "Epoch 175/1000\n",
            "2400/2400 [==============================] - 2s 826us/step - loss: 1.0179 - acc: 0.5550\n",
            "Epoch 176/1000\n",
            "2080/2400 [=========================>....] - ETA: 0s - loss: 1.0206 - acc: 0.5582"
          ],
          "name": "stdout"
        },
        {
          "output_type": "stream",
          "text": [
            "2400/2400 [==============================] - 2s 835us/step - loss: 1.0197 - acc: 0.5563\n",
            "Epoch 177/1000\n",
            "2400/2400 [==============================] - 2s 830us/step - loss: 1.0182 - acc: 0.5542\n",
            "Epoch 178/1000\n",
            "2400/2400 [==============================] - 2s 832us/step - loss: 1.0112 - acc: 0.5579\n",
            "Epoch 179/1000\n",
            "2400/2400 [==============================] - 2s 829us/step - loss: 1.0043 - acc: 0.5637\n",
            "Epoch 180/1000\n",
            "2400/2400 [==============================] - 2s 887us/step - loss: 1.0172 - acc: 0.5500\n",
            "Epoch 181/1000\n",
            "2400/2400 [==============================] - 2s 875us/step - loss: 1.0029 - acc: 0.5529\n",
            "Epoch 182/1000\n",
            "2272/2400 [===========================>..] - ETA: 0s - loss: 1.0094 - acc: 0.5594"
          ],
          "name": "stdout"
        },
        {
          "output_type": "stream",
          "text": [
            "2400/2400 [==============================] - 2s 860us/step - loss: 1.0145 - acc: 0.5617\n",
            "Epoch 183/1000\n",
            "2400/2400 [==============================] - 2s 880us/step - loss: 1.0193 - acc: 0.5550\n",
            "Epoch 184/1000\n",
            "2400/2400 [==============================] - 2s 898us/step - loss: 1.0082 - acc: 0.5700\n",
            "Epoch 185/1000\n",
            "2400/2400 [==============================] - 2s 896us/step - loss: 1.0116 - acc: 0.5500\n",
            "Epoch 186/1000\n",
            "2400/2400 [==============================] - 2s 875us/step - loss: 1.0147 - acc: 0.5550\n",
            "Epoch 187/1000\n",
            "2400/2400 [==============================] - 2s 867us/step - loss: 1.0066 - acc: 0.5687\n",
            "Epoch 188/1000\n",
            "2080/2400 [=========================>....] - ETA: 0s - loss: 1.0021 - acc: 0.5615"
          ],
          "name": "stdout"
        },
        {
          "output_type": "stream",
          "text": [
            "2400/2400 [==============================] - 2s 880us/step - loss: 1.0094 - acc: 0.5629\n",
            "Epoch 189/1000\n",
            "2400/2400 [==============================] - 2s 882us/step - loss: 0.9964 - acc: 0.5596\n",
            "Epoch 190/1000\n",
            "2400/2400 [==============================] - 2s 874us/step - loss: 1.0027 - acc: 0.5642\n",
            "Epoch 191/1000\n",
            "2400/2400 [==============================] - 2s 853us/step - loss: 1.0042 - acc: 0.5617\n",
            "Epoch 192/1000\n",
            "2400/2400 [==============================] - 2s 852us/step - loss: 0.9981 - acc: 0.5625\n",
            "Epoch 193/1000\n",
            "2400/2400 [==============================] - 2s 872us/step - loss: 1.0048 - acc: 0.5604\n",
            "Epoch 194/1000\n",
            "2272/2400 [===========================>..] - ETA: 0s - loss: 0.9994 - acc: 0.5660"
          ],
          "name": "stdout"
        },
        {
          "output_type": "stream",
          "text": [
            "2400/2400 [==============================] - 2s 885us/step - loss: 0.9994 - acc: 0.5687\n",
            "Epoch 195/1000\n",
            "2400/2400 [==============================] - 2s 892us/step - loss: 0.9963 - acc: 0.5763\n",
            "Epoch 196/1000\n",
            "2400/2400 [==============================] - 2s 884us/step - loss: 0.9945 - acc: 0.5679\n",
            "Epoch 197/1000\n",
            "2400/2400 [==============================] - 2s 886us/step - loss: 0.9887 - acc: 0.5792\n",
            "Epoch 198/1000\n",
            "2400/2400 [==============================] - 2s 885us/step - loss: 0.9964 - acc: 0.5713\n",
            "Epoch 199/1000\n",
            "2400/2400 [==============================] - 2s 888us/step - loss: 0.9794 - acc: 0.5808\n",
            "Epoch 200/1000\n",
            "2144/2400 [=========================>....] - ETA: 0s - loss: 0.9959 - acc: 0.5639"
          ],
          "name": "stdout"
        },
        {
          "output_type": "stream",
          "text": [
            "2400/2400 [==============================] - 2s 905us/step - loss: 0.9870 - acc: 0.5725\n",
            "Epoch 201/1000\n",
            "2400/2400 [==============================] - 2s 886us/step - loss: 0.9965 - acc: 0.5787\n",
            "Epoch 202/1000\n",
            "2400/2400 [==============================] - 2s 899us/step - loss: 0.9875 - acc: 0.5767\n",
            "Epoch 203/1000\n",
            "2400/2400 [==============================] - 2s 898us/step - loss: 0.9770 - acc: 0.5771\n",
            "Epoch 204/1000\n",
            "2400/2400 [==============================] - 2s 890us/step - loss: 1.0023 - acc: 0.5650\n",
            "Epoch 205/1000\n",
            "2400/2400 [==============================] - 2s 895us/step - loss: 0.9923 - acc: 0.5629\n",
            "Epoch 206/1000\n",
            "2208/2400 [==========================>...] - ETA: 0s - loss: 0.9884 - acc: 0.5657"
          ],
          "name": "stdout"
        },
        {
          "output_type": "stream",
          "text": [
            "2400/2400 [==============================] - 2s 904us/step - loss: 0.9929 - acc: 0.5654\n",
            "Epoch 207/1000\n",
            "2400/2400 [==============================] - 2s 905us/step - loss: 0.9906 - acc: 0.5696\n",
            "Epoch 208/1000\n",
            "2400/2400 [==============================] - 2s 907us/step - loss: 0.9787 - acc: 0.5892\n",
            "Epoch 209/1000\n",
            "2400/2400 [==============================] - 2s 913us/step - loss: 0.9840 - acc: 0.5812\n",
            "Epoch 210/1000\n",
            "2400/2400 [==============================] - 2s 900us/step - loss: 0.9906 - acc: 0.5650\n",
            "Epoch 211/1000\n",
            "2400/2400 [==============================] - 2s 907us/step - loss: 0.9791 - acc: 0.5733\n",
            "Epoch 212/1000\n",
            "2080/2400 [=========================>....] - ETA: 0s - loss: 0.9964 - acc: 0.5654"
          ],
          "name": "stdout"
        },
        {
          "output_type": "stream",
          "text": [
            "2400/2400 [==============================] - 2s 896us/step - loss: 0.9835 - acc: 0.5704\n",
            "Epoch 213/1000\n",
            "2400/2400 [==============================] - 2s 892us/step - loss: 0.9717 - acc: 0.5846\n",
            "Epoch 214/1000\n",
            "2400/2400 [==============================] - 2s 902us/step - loss: 0.9761 - acc: 0.5779\n",
            "Epoch 215/1000\n",
            "2400/2400 [==============================] - 2s 890us/step - loss: 0.9748 - acc: 0.5850\n",
            "Epoch 216/1000\n",
            "2400/2400 [==============================] - 2s 895us/step - loss: 0.9750 - acc: 0.5808\n",
            "Epoch 217/1000\n",
            "2400/2400 [==============================] - 2s 893us/step - loss: 0.9778 - acc: 0.5704\n",
            "Epoch 218/1000\n",
            "2144/2400 [=========================>....] - ETA: 0s - loss: 0.9701 - acc: 0.5774"
          ],
          "name": "stdout"
        },
        {
          "output_type": "stream",
          "text": [
            "2400/2400 [==============================] - 2s 909us/step - loss: 0.9729 - acc: 0.5783\n",
            "Epoch 219/1000\n",
            "2400/2400 [==============================] - 2s 902us/step - loss: 0.9768 - acc: 0.5792\n",
            "Epoch 220/1000\n",
            "2400/2400 [==============================] - 2s 905us/step - loss: 0.9643 - acc: 0.5729\n",
            "Epoch 221/1000\n",
            "2400/2400 [==============================] - 2s 909us/step - loss: 0.9709 - acc: 0.5754\n",
            "Epoch 222/1000\n",
            "2400/2400 [==============================] - 2s 909us/step - loss: 0.9735 - acc: 0.5742\n",
            "Epoch 223/1000\n",
            "2400/2400 [==============================] - 2s 907us/step - loss: 0.9665 - acc: 0.5687\n",
            "Epoch 224/1000\n",
            "2016/2400 [========================>.....] - ETA: 0s - loss: 0.9592 - acc: 0.5928"
          ],
          "name": "stdout"
        },
        {
          "output_type": "stream",
          "text": [
            "2400/2400 [==============================] - 2s 902us/step - loss: 0.9604 - acc: 0.5938\n",
            "Epoch 225/1000\n",
            "2400/2400 [==============================] - 2s 898us/step - loss: 0.9605 - acc: 0.5962\n",
            "Epoch 226/1000\n",
            "2400/2400 [==============================] - 2s 886us/step - loss: 0.9621 - acc: 0.5842\n",
            "Epoch 227/1000\n",
            "2400/2400 [==============================] - 2s 895us/step - loss: 0.9529 - acc: 0.5954\n",
            "Epoch 228/1000\n",
            "2400/2400 [==============================] - 2s 912us/step - loss: 0.9577 - acc: 0.5850\n",
            "Epoch 229/1000\n",
            "2400/2400 [==============================] - 2s 907us/step - loss: 0.9681 - acc: 0.5854\n",
            "Epoch 230/1000\n",
            "2144/2400 [=========================>....] - ETA: 0s - loss: 0.9651 - acc: 0.5728"
          ],
          "name": "stdout"
        },
        {
          "output_type": "stream",
          "text": [
            "2400/2400 [==============================] - 2s 919us/step - loss: 0.9630 - acc: 0.5771\n",
            "Epoch 231/1000\n",
            "2400/2400 [==============================] - 2s 908us/step - loss: 0.9514 - acc: 0.5875\n",
            "Epoch 232/1000\n",
            "2400/2400 [==============================] - 2s 907us/step - loss: 0.9615 - acc: 0.5846\n",
            "Epoch 233/1000\n",
            "2400/2400 [==============================] - 2s 912us/step - loss: 0.9543 - acc: 0.5850\n",
            "Epoch 234/1000\n",
            "2400/2400 [==============================] - 2s 911us/step - loss: 0.9721 - acc: 0.5771\n",
            "Epoch 235/1000\n",
            "2400/2400 [==============================] - 2s 915us/step - loss: 0.9506 - acc: 0.5892\n",
            "Epoch 236/1000\n",
            "2080/2400 [=========================>....] - ETA: 0s - loss: 0.9559 - acc: 0.5938"
          ],
          "name": "stdout"
        },
        {
          "output_type": "stream",
          "text": [
            "2400/2400 [==============================] - 2s 896us/step - loss: 0.9559 - acc: 0.5942\n",
            "Epoch 237/1000\n",
            "2400/2400 [==============================] - 2s 900us/step - loss: 0.9534 - acc: 0.5950\n",
            "Epoch 238/1000\n",
            "2400/2400 [==============================] - 2s 910us/step - loss: 0.9489 - acc: 0.5946\n",
            "Epoch 239/1000\n",
            "2400/2400 [==============================] - 2s 924us/step - loss: 0.9528 - acc: 0.6004\n",
            "Epoch 240/1000\n",
            "2400/2400 [==============================] - 2s 900us/step - loss: 0.9523 - acc: 0.5929\n",
            "Epoch 241/1000\n",
            "2400/2400 [==============================] - 2s 906us/step - loss: 0.9514 - acc: 0.5929\n",
            "Epoch 242/1000\n",
            "2080/2400 [=========================>....] - ETA: 0s - loss: 0.9597 - acc: 0.5918"
          ],
          "name": "stdout"
        },
        {
          "output_type": "stream",
          "text": [
            "2400/2400 [==============================] - 2s 903us/step - loss: 0.9512 - acc: 0.5942\n",
            "Epoch 243/1000\n",
            "2400/2400 [==============================] - 2s 901us/step - loss: 0.9466 - acc: 0.5942\n",
            "Epoch 244/1000\n",
            "2400/2400 [==============================] - 2s 907us/step - loss: 0.9420 - acc: 0.5938\n",
            "Epoch 245/1000\n",
            "2400/2400 [==============================] - 2s 902us/step - loss: 0.9435 - acc: 0.5938\n",
            "Epoch 246/1000\n",
            "2400/2400 [==============================] - 2s 921us/step - loss: 0.9467 - acc: 0.5983\n",
            "Epoch 247/1000\n",
            "2400/2400 [==============================] - 2s 903us/step - loss: 0.9464 - acc: 0.5958\n",
            "Epoch 248/1000\n",
            "2144/2400 [=========================>....] - ETA: 0s - loss: 0.9435 - acc: 0.6021"
          ],
          "name": "stdout"
        },
        {
          "output_type": "stream",
          "text": [
            "2400/2400 [==============================] - 2s 910us/step - loss: 0.9398 - acc: 0.6046\n",
            "Epoch 249/1000\n",
            "2400/2400 [==============================] - 2s 878us/step - loss: 0.9489 - acc: 0.5875\n",
            "Epoch 250/1000\n",
            "2400/2400 [==============================] - 2s 892us/step - loss: 0.9357 - acc: 0.6088\n",
            "Epoch 251/1000\n",
            "2400/2400 [==============================] - 2s 883us/step - loss: 0.9431 - acc: 0.5950\n",
            "Epoch 252/1000\n",
            "2400/2400 [==============================] - 2s 880us/step - loss: 0.9343 - acc: 0.6117\n",
            "Epoch 253/1000\n",
            "2400/2400 [==============================] - 2s 879us/step - loss: 0.9268 - acc: 0.6162\n",
            "Epoch 254/1000\n",
            "2144/2400 [=========================>....] - ETA: 0s - loss: 0.9415 - acc: 0.6012"
          ],
          "name": "stdout"
        },
        {
          "output_type": "stream",
          "text": [
            "2400/2400 [==============================] - 2s 881us/step - loss: 0.9373 - acc: 0.6038\n",
            "Epoch 255/1000\n",
            "2400/2400 [==============================] - 2s 886us/step - loss: 0.9347 - acc: 0.6033\n",
            "Epoch 256/1000\n",
            "2400/2400 [==============================] - 2s 903us/step - loss: 0.9540 - acc: 0.5950\n",
            "Epoch 257/1000\n",
            "2400/2400 [==============================] - 2s 898us/step - loss: 0.9226 - acc: 0.6125\n",
            "Epoch 258/1000\n",
            "2400/2400 [==============================] - 2s 895us/step - loss: 0.9432 - acc: 0.5975\n",
            "Epoch 259/1000\n",
            "2400/2400 [==============================] - 2s 891us/step - loss: 0.9335 - acc: 0.6175\n",
            "Epoch 260/1000\n",
            "2016/2400 [========================>.....] - ETA: 0s - loss: 0.9262 - acc: 0.6200"
          ],
          "name": "stdout"
        },
        {
          "output_type": "stream",
          "text": [
            "2400/2400 [==============================] - 2s 882us/step - loss: 0.9249 - acc: 0.6183\n",
            "Epoch 261/1000\n",
            "2400/2400 [==============================] - 2s 894us/step - loss: 0.9328 - acc: 0.6058\n",
            "Epoch 262/1000\n",
            "2400/2400 [==============================] - 2s 901us/step - loss: 0.9294 - acc: 0.6125\n",
            "Epoch 263/1000\n",
            "2400/2400 [==============================] - 2s 876us/step - loss: 0.9170 - acc: 0.6150\n",
            "Epoch 264/1000\n",
            "2400/2400 [==============================] - 2s 893us/step - loss: 0.9373 - acc: 0.5996\n",
            "Epoch 265/1000\n",
            "2400/2400 [==============================] - 2s 895us/step - loss: 0.9229 - acc: 0.6183\n",
            "Epoch 266/1000\n",
            "2016/2400 [========================>.....] - ETA: 0s - loss: 0.9213 - acc: 0.6096"
          ],
          "name": "stdout"
        },
        {
          "output_type": "stream",
          "text": [
            "2400/2400 [==============================] - 2s 879us/step - loss: 0.9257 - acc: 0.6092\n",
            "Epoch 267/1000\n",
            "2400/2400 [==============================] - 2s 908us/step - loss: 0.9280 - acc: 0.6058\n",
            "Epoch 268/1000\n",
            "2400/2400 [==============================] - 2s 904us/step - loss: 0.9238 - acc: 0.6079\n",
            "Epoch 269/1000\n",
            "2400/2400 [==============================] - 2s 901us/step - loss: 0.9157 - acc: 0.6175\n",
            "Epoch 270/1000\n",
            "2400/2400 [==============================] - 2s 892us/step - loss: 0.9321 - acc: 0.6079\n",
            "Epoch 271/1000\n",
            "2400/2400 [==============================] - 2s 909us/step - loss: 0.9145 - acc: 0.6200\n",
            "Epoch 272/1000\n",
            "2080/2400 [=========================>....] - ETA: 0s - loss: 0.9229 - acc: 0.6077"
          ],
          "name": "stdout"
        },
        {
          "output_type": "stream",
          "text": [
            "2400/2400 [==============================] - 2s 919us/step - loss: 0.9204 - acc: 0.6146\n",
            "Epoch 273/1000\n",
            "2400/2400 [==============================] - 2s 922us/step - loss: 0.9257 - acc: 0.6004\n",
            "Epoch 274/1000\n",
            "2400/2400 [==============================] - 2s 919us/step - loss: 0.9249 - acc: 0.6154\n",
            "Epoch 275/1000\n",
            "2400/2400 [==============================] - 2s 922us/step - loss: 0.9120 - acc: 0.6271\n",
            "Epoch 276/1000\n",
            "2400/2400 [==============================] - 2s 924us/step - loss: 0.9208 - acc: 0.6133\n",
            "Epoch 277/1000\n",
            "2400/2400 [==============================] - 2s 927us/step - loss: 0.9075 - acc: 0.6292\n",
            "Epoch 278/1000\n",
            "2080/2400 [=========================>....] - ETA: 0s - loss: 0.9171 - acc: 0.6298"
          ],
          "name": "stdout"
        },
        {
          "output_type": "stream",
          "text": [
            "2400/2400 [==============================] - 2s 907us/step - loss: 0.9107 - acc: 0.6308\n",
            "Epoch 279/1000\n",
            "2400/2400 [==============================] - 2s 903us/step - loss: 0.9082 - acc: 0.6271\n",
            "Epoch 280/1000\n",
            "2400/2400 [==============================] - 2s 890us/step - loss: 0.9119 - acc: 0.6100\n",
            "Epoch 281/1000\n",
            "2400/2400 [==============================] - 2s 890us/step - loss: 0.9142 - acc: 0.6146\n",
            "Epoch 282/1000\n",
            "2400/2400 [==============================] - 2s 895us/step - loss: 0.9064 - acc: 0.6179\n",
            "Epoch 283/1000\n",
            "2400/2400 [==============================] - 2s 896us/step - loss: 0.9137 - acc: 0.6175\n",
            "Epoch 284/1000\n",
            "2016/2400 [========================>.....] - ETA: 0s - loss: 0.9273 - acc: 0.6106"
          ],
          "name": "stdout"
        },
        {
          "output_type": "stream",
          "text": [
            "2400/2400 [==============================] - 2s 900us/step - loss: 0.9206 - acc: 0.6121\n",
            "Epoch 285/1000\n",
            "2400/2400 [==============================] - 2s 902us/step - loss: 0.9114 - acc: 0.6275\n",
            "Epoch 286/1000\n",
            "2400/2400 [==============================] - 2s 888us/step - loss: 0.9154 - acc: 0.6067\n",
            "Epoch 287/1000\n",
            "2400/2400 [==============================] - 2s 890us/step - loss: 0.9030 - acc: 0.6267\n",
            "Epoch 288/1000\n",
            "2400/2400 [==============================] - 2s 900us/step - loss: 0.9081 - acc: 0.6250\n",
            "Epoch 289/1000\n",
            "2400/2400 [==============================] - 2s 888us/step - loss: 0.8967 - acc: 0.6275\n",
            "Epoch 290/1000\n",
            "2080/2400 [=========================>....] - ETA: 0s - loss: 0.9257 - acc: 0.6091"
          ],
          "name": "stdout"
        },
        {
          "output_type": "stream",
          "text": [
            "2400/2400 [==============================] - 2s 904us/step - loss: 0.9128 - acc: 0.6129\n",
            "Epoch 291/1000\n",
            "2400/2400 [==============================] - 2s 906us/step - loss: 0.8996 - acc: 0.6392\n",
            "Epoch 292/1000\n",
            "2400/2400 [==============================] - 2s 899us/step - loss: 0.9053 - acc: 0.6279\n",
            "Epoch 293/1000\n",
            "2400/2400 [==============================] - 2s 901us/step - loss: 0.9055 - acc: 0.6213\n",
            "Epoch 294/1000\n",
            "2400/2400 [==============================] - 2s 887us/step - loss: 0.9045 - acc: 0.6254\n",
            "Epoch 295/1000\n",
            "2400/2400 [==============================] - 2s 940us/step - loss: 0.9023 - acc: 0.6238\n",
            "Epoch 296/1000\n",
            "2080/2400 [=========================>....] - ETA: 0s - loss: 0.9160 - acc: 0.6212"
          ],
          "name": "stdout"
        },
        {
          "output_type": "stream",
          "text": [
            "2400/2400 [==============================] - 2s 927us/step - loss: 0.9067 - acc: 0.6254\n",
            "Epoch 297/1000\n",
            "2400/2400 [==============================] - 2s 926us/step - loss: 0.8956 - acc: 0.6225\n",
            "Epoch 298/1000\n",
            "2400/2400 [==============================] - 2s 928us/step - loss: 0.8925 - acc: 0.6188\n",
            "Epoch 299/1000\n",
            "2400/2400 [==============================] - 2s 929us/step - loss: 0.8988 - acc: 0.6325\n",
            "Epoch 300/1000\n",
            "2400/2400 [==============================] - 2s 929us/step - loss: 0.8974 - acc: 0.6262\n",
            "Epoch 301/1000\n",
            "2400/2400 [==============================] - 2s 928us/step - loss: 0.8804 - acc: 0.6396\n",
            "Epoch 302/1000\n",
            "2080/2400 [=========================>....] - ETA: 0s - loss: 0.8903 - acc: 0.6385"
          ],
          "name": "stdout"
        },
        {
          "output_type": "stream",
          "text": [
            "2400/2400 [==============================] - 2s 933us/step - loss: 0.9001 - acc: 0.6350\n",
            "Epoch 303/1000\n",
            "2400/2400 [==============================] - 2s 923us/step - loss: 0.8904 - acc: 0.6317\n",
            "Epoch 304/1000\n",
            "2400/2400 [==============================] - 2s 929us/step - loss: 0.8967 - acc: 0.6229\n",
            "Epoch 305/1000\n",
            "2400/2400 [==============================] - 2s 931us/step - loss: 0.8926 - acc: 0.6325\n",
            "Epoch 306/1000\n",
            "2400/2400 [==============================] - 2s 942us/step - loss: 0.8867 - acc: 0.6379\n",
            "Epoch 307/1000\n",
            "2400/2400 [==============================] - 2s 929us/step - loss: 0.8948 - acc: 0.6242\n",
            "Epoch 308/1000\n",
            "2080/2400 [=========================>....] - ETA: 0s - loss: 0.8933 - acc: 0.6332"
          ],
          "name": "stdout"
        },
        {
          "output_type": "stream",
          "text": [
            "2400/2400 [==============================] - 2s 930us/step - loss: 0.8914 - acc: 0.6275\n",
            "Epoch 309/1000\n",
            "2400/2400 [==============================] - 2s 918us/step - loss: 0.8846 - acc: 0.6362\n",
            "Epoch 310/1000\n",
            "2400/2400 [==============================] - 2s 925us/step - loss: 0.8784 - acc: 0.6308\n",
            "Epoch 311/1000\n",
            "2400/2400 [==============================] - 2s 893us/step - loss: 0.8819 - acc: 0.6346\n",
            "Epoch 312/1000\n",
            "2400/2400 [==============================] - 2s 915us/step - loss: 0.8834 - acc: 0.6296\n",
            "Epoch 313/1000\n",
            "2400/2400 [==============================] - 2s 901us/step - loss: 0.8881 - acc: 0.6308\n",
            "Epoch 314/1000\n",
            "2016/2400 [========================>.....] - ETA: 0s - loss: 0.8878 - acc: 0.6285"
          ],
          "name": "stdout"
        },
        {
          "output_type": "stream",
          "text": [
            "2400/2400 [==============================] - 2s 894us/step - loss: 0.8854 - acc: 0.6275\n",
            "Epoch 315/1000\n",
            "2400/2400 [==============================] - 2s 894us/step - loss: 0.8803 - acc: 0.6412\n",
            "Epoch 316/1000\n",
            "2400/2400 [==============================] - 2s 894us/step - loss: 0.8801 - acc: 0.6367\n",
            "Epoch 317/1000\n",
            "2400/2400 [==============================] - 2s 897us/step - loss: 0.8814 - acc: 0.6504\n",
            "Epoch 318/1000\n",
            "2400/2400 [==============================] - 2s 895us/step - loss: 0.8720 - acc: 0.6462\n",
            "Epoch 319/1000\n",
            "2400/2400 [==============================] - 2s 890us/step - loss: 0.8774 - acc: 0.6400\n",
            "Epoch 320/1000\n",
            "2080/2400 [=========================>....] - ETA: 0s - loss: 0.8653 - acc: 0.6452"
          ],
          "name": "stdout"
        },
        {
          "output_type": "stream",
          "text": [
            "2400/2400 [==============================] - 2s 905us/step - loss: 0.8799 - acc: 0.6388\n",
            "Epoch 321/1000\n",
            "2400/2400 [==============================] - 2s 890us/step - loss: 0.8763 - acc: 0.6421\n",
            "Epoch 322/1000\n",
            "2400/2400 [==============================] - 2s 885us/step - loss: 0.8781 - acc: 0.6396\n",
            "Epoch 323/1000\n",
            "2400/2400 [==============================] - 2s 911us/step - loss: 0.8823 - acc: 0.6383\n",
            "Epoch 324/1000\n",
            "2400/2400 [==============================] - 2s 879us/step - loss: 0.8781 - acc: 0.6417\n",
            "Epoch 325/1000\n",
            "2400/2400 [==============================] - 2s 887us/step - loss: 0.8766 - acc: 0.6367\n",
            "Epoch 326/1000\n",
            "2016/2400 [========================>.....] - ETA: 0s - loss: 0.8620 - acc: 0.6473"
          ],
          "name": "stdout"
        },
        {
          "output_type": "stream",
          "text": [
            "2400/2400 [==============================] - 2s 870us/step - loss: 0.8686 - acc: 0.6483\n",
            "Epoch 327/1000\n",
            "2400/2400 [==============================] - 2s 882us/step - loss: 0.8655 - acc: 0.6458\n",
            "Epoch 328/1000\n",
            "2400/2400 [==============================] - 2s 885us/step - loss: 0.8768 - acc: 0.6467\n",
            "Epoch 329/1000\n",
            "2400/2400 [==============================] - 2s 879us/step - loss: 0.8577 - acc: 0.6525\n",
            "Epoch 330/1000\n",
            "2400/2400 [==============================] - 2s 887us/step - loss: 0.8698 - acc: 0.6442\n",
            "Epoch 331/1000\n",
            "2400/2400 [==============================] - 2s 873us/step - loss: 0.8581 - acc: 0.6479\n",
            "Epoch 332/1000\n",
            "2016/2400 [========================>.....] - ETA: 0s - loss: 0.8716 - acc: 0.6528"
          ],
          "name": "stdout"
        },
        {
          "output_type": "stream",
          "text": [
            "2400/2400 [==============================] - 2s 890us/step - loss: 0.8607 - acc: 0.6562\n",
            "Epoch 333/1000\n",
            "2400/2400 [==============================] - 2s 889us/step - loss: 0.8593 - acc: 0.6517\n",
            "Epoch 334/1000\n",
            "2400/2400 [==============================] - 2s 895us/step - loss: 0.8611 - acc: 0.6525\n",
            "Epoch 335/1000\n",
            "2400/2400 [==============================] - 2s 891us/step - loss: 0.8622 - acc: 0.6517\n",
            "Epoch 336/1000\n",
            "2400/2400 [==============================] - 2s 894us/step - loss: 0.8734 - acc: 0.6354\n",
            "Epoch 337/1000\n",
            "2400/2400 [==============================] - 2s 883us/step - loss: 0.8625 - acc: 0.6383\n",
            "Epoch 338/1000\n",
            "2080/2400 [=========================>....] - ETA: 0s - loss: 0.8755 - acc: 0.6457"
          ],
          "name": "stdout"
        },
        {
          "output_type": "stream",
          "text": [
            "2400/2400 [==============================] - 2s 892us/step - loss: 0.8693 - acc: 0.6483\n",
            "Epoch 339/1000\n",
            "2400/2400 [==============================] - 2s 893us/step - loss: 0.8524 - acc: 0.6587\n",
            "Epoch 340/1000\n",
            "2400/2400 [==============================] - 2s 909us/step - loss: 0.8509 - acc: 0.6533\n",
            "Epoch 341/1000\n",
            "2400/2400 [==============================] - 2s 902us/step - loss: 0.8600 - acc: 0.6479\n",
            "Epoch 342/1000\n",
            "2400/2400 [==============================] - 2s 893us/step - loss: 0.8634 - acc: 0.6388\n",
            "Epoch 343/1000\n",
            "2400/2400 [==============================] - 2s 892us/step - loss: 0.8535 - acc: 0.6663\n",
            "Epoch 344/1000\n",
            "2080/2400 [=========================>....] - ETA: 0s - loss: 0.8587 - acc: 0.6442"
          ],
          "name": "stdout"
        },
        {
          "output_type": "stream",
          "text": [
            "2400/2400 [==============================] - 2s 891us/step - loss: 0.8556 - acc: 0.6471\n",
            "Epoch 345/1000\n",
            "2400/2400 [==============================] - 2s 889us/step - loss: 0.8621 - acc: 0.6408\n",
            "Epoch 346/1000\n",
            "2400/2400 [==============================] - 2s 892us/step - loss: 0.8506 - acc: 0.6529\n",
            "Epoch 347/1000\n",
            "2400/2400 [==============================] - 2s 884us/step - loss: 0.8590 - acc: 0.6471\n",
            "Epoch 348/1000\n",
            "2400/2400 [==============================] - 2s 900us/step - loss: 0.8514 - acc: 0.6462\n",
            "Epoch 349/1000\n",
            "2400/2400 [==============================] - 2s 903us/step - loss: 0.8569 - acc: 0.6512\n",
            "Epoch 350/1000\n",
            "2080/2400 [=========================>....] - ETA: 0s - loss: 0.8472 - acc: 0.6524"
          ],
          "name": "stdout"
        },
        {
          "output_type": "stream",
          "text": [
            "2400/2400 [==============================] - 2s 884us/step - loss: 0.8446 - acc: 0.6533\n",
            "Epoch 351/1000\n",
            "2400/2400 [==============================] - 2s 911us/step - loss: 0.8528 - acc: 0.6525\n",
            "Epoch 352/1000\n",
            "2400/2400 [==============================] - 2s 899us/step - loss: 0.8486 - acc: 0.6613\n",
            "Epoch 353/1000\n",
            "2400/2400 [==============================] - 2s 909us/step - loss: 0.8606 - acc: 0.6342\n",
            "Epoch 354/1000\n",
            "2400/2400 [==============================] - 2s 896us/step - loss: 0.8391 - acc: 0.6587\n",
            "Epoch 355/1000\n",
            "2400/2400 [==============================] - 2s 904us/step - loss: 0.8525 - acc: 0.6442\n",
            "Epoch 356/1000\n",
            "2144/2400 [=========================>....] - ETA: 0s - loss: 0.8557 - acc: 0.6525"
          ],
          "name": "stdout"
        },
        {
          "output_type": "stream",
          "text": [
            "2400/2400 [==============================] - 2s 908us/step - loss: 0.8569 - acc: 0.6508\n",
            "Epoch 357/1000\n",
            "2400/2400 [==============================] - 2s 899us/step - loss: 0.8381 - acc: 0.6617\n",
            "Epoch 358/1000\n",
            "2400/2400 [==============================] - 2s 893us/step - loss: 0.8516 - acc: 0.6512\n",
            "Epoch 359/1000\n",
            "2400/2400 [==============================] - 2s 890us/step - loss: 0.8478 - acc: 0.6558\n",
            "Epoch 360/1000\n",
            "2400/2400 [==============================] - 2s 891us/step - loss: 0.8550 - acc: 0.6396\n",
            "Epoch 361/1000\n",
            "2400/2400 [==============================] - 2s 900us/step - loss: 0.8378 - acc: 0.6692\n",
            "Epoch 362/1000\n",
            "2144/2400 [=========================>....] - ETA: 0s - loss: 0.8421 - acc: 0.6642"
          ],
          "name": "stdout"
        },
        {
          "output_type": "stream",
          "text": [
            "2400/2400 [==============================] - 2s 893us/step - loss: 0.8447 - acc: 0.6625\n",
            "Epoch 363/1000\n",
            "2400/2400 [==============================] - 2s 901us/step - loss: 0.8468 - acc: 0.6646\n",
            "Epoch 364/1000\n",
            "2400/2400 [==============================] - 2s 899us/step - loss: 0.8427 - acc: 0.6696\n",
            "Epoch 365/1000\n",
            "2400/2400 [==============================] - 2s 901us/step - loss: 0.8444 - acc: 0.6629\n",
            "Epoch 366/1000\n",
            "2400/2400 [==============================] - 2s 897us/step - loss: 0.8458 - acc: 0.6562\n",
            "Epoch 367/1000\n",
            "2400/2400 [==============================] - 2s 891us/step - loss: 0.8364 - acc: 0.6708\n",
            "Epoch 368/1000\n",
            "2144/2400 [=========================>....] - ETA: 0s - loss: 0.8487 - acc: 0.6502"
          ],
          "name": "stdout"
        },
        {
          "output_type": "stream",
          "text": [
            "2400/2400 [==============================] - 2s 854us/step - loss: 0.8513 - acc: 0.6496\n",
            "Epoch 369/1000\n",
            "2400/2400 [==============================] - 2s 879us/step - loss: 0.8279 - acc: 0.6646\n",
            "Epoch 370/1000\n",
            "2400/2400 [==============================] - 2s 884us/step - loss: 0.8339 - acc: 0.6604\n",
            "Epoch 371/1000\n",
            "2400/2400 [==============================] - 2s 879us/step - loss: 0.8475 - acc: 0.6525\n",
            "Epoch 372/1000\n",
            "2400/2400 [==============================] - 2s 855us/step - loss: 0.8414 - acc: 0.6583\n",
            "Epoch 373/1000\n",
            "2400/2400 [==============================] - 2s 861us/step - loss: 0.8318 - acc: 0.6767\n",
            "Epoch 374/1000\n",
            "2208/2400 [==========================>...] - ETA: 0s - loss: 0.8374 - acc: 0.6676"
          ],
          "name": "stdout"
        },
        {
          "output_type": "stream",
          "text": [
            "2400/2400 [==============================] - 2s 845us/step - loss: 0.8353 - acc: 0.6671\n",
            "Epoch 375/1000\n",
            "2400/2400 [==============================] - 2s 822us/step - loss: 0.8395 - acc: 0.6667\n",
            "Epoch 376/1000\n",
            "2400/2400 [==============================] - 2s 830us/step - loss: 0.8340 - acc: 0.6663\n",
            "Epoch 377/1000\n",
            "2400/2400 [==============================] - 2s 831us/step - loss: 0.8265 - acc: 0.6733\n",
            "Epoch 378/1000\n",
            "2400/2400 [==============================] - 2s 822us/step - loss: 0.8417 - acc: 0.6604\n",
            "Epoch 379/1000\n",
            "2400/2400 [==============================] - 2s 827us/step - loss: 0.8312 - acc: 0.6704\n",
            "Epoch 380/1000\n",
            "2144/2400 [=========================>....] - ETA: 0s - loss: 0.8366 - acc: 0.6688"
          ],
          "name": "stdout"
        },
        {
          "output_type": "stream",
          "text": [
            "2400/2400 [==============================] - 2s 838us/step - loss: 0.8373 - acc: 0.6667\n",
            "Epoch 381/1000\n",
            "2400/2400 [==============================] - 2s 845us/step - loss: 0.8390 - acc: 0.6621\n",
            "Epoch 382/1000\n",
            "2400/2400 [==============================] - 2s 841us/step - loss: 0.8298 - acc: 0.6625\n",
            "Epoch 383/1000\n",
            "2400/2400 [==============================] - 2s 842us/step - loss: 0.8307 - acc: 0.6675\n",
            "Epoch 384/1000\n",
            "2400/2400 [==============================] - 2s 838us/step - loss: 0.8214 - acc: 0.6704\n",
            "Epoch 385/1000\n",
            "2400/2400 [==============================] - 2s 846us/step - loss: 0.8313 - acc: 0.6604\n",
            "Epoch 386/1000\n",
            "2208/2400 [==========================>...] - ETA: 0s - loss: 0.8288 - acc: 0.6653"
          ],
          "name": "stdout"
        },
        {
          "output_type": "stream",
          "text": [
            "2400/2400 [==============================] - 2s 841us/step - loss: 0.8259 - acc: 0.6683\n",
            "Epoch 387/1000\n",
            "2400/2400 [==============================] - 2s 846us/step - loss: 0.8283 - acc: 0.6663\n",
            "Epoch 388/1000\n",
            "2400/2400 [==============================] - 2s 840us/step - loss: 0.8334 - acc: 0.6746\n",
            "Epoch 389/1000\n",
            "2400/2400 [==============================] - 2s 835us/step - loss: 0.8302 - acc: 0.6783\n",
            "Epoch 390/1000\n",
            "2400/2400 [==============================] - 2s 824us/step - loss: 0.8249 - acc: 0.6646\n",
            "Epoch 391/1000\n",
            "2400/2400 [==============================] - 2s 829us/step - loss: 0.8204 - acc: 0.6754\n",
            "Epoch 392/1000\n",
            "2336/2400 [============================>.] - ETA: 0s - loss: 0.8241 - acc: 0.6751"
          ],
          "name": "stdout"
        },
        {
          "output_type": "stream",
          "text": [
            "2400/2400 [==============================] - 2s 847us/step - loss: 0.8233 - acc: 0.6754\n",
            "Epoch 393/1000\n",
            "2400/2400 [==============================] - 2s 841us/step - loss: 0.8280 - acc: 0.6667\n",
            "Epoch 394/1000\n",
            "2400/2400 [==============================] - 2s 840us/step - loss: 0.8151 - acc: 0.6713\n",
            "Epoch 395/1000\n",
            "2400/2400 [==============================] - 2s 846us/step - loss: 0.8195 - acc: 0.6800\n",
            "Epoch 396/1000\n",
            "2400/2400 [==============================] - 2s 840us/step - loss: 0.8148 - acc: 0.6879\n",
            "Epoch 397/1000\n",
            "2400/2400 [==============================] - 2s 844us/step - loss: 0.8138 - acc: 0.6854\n",
            "Epoch 398/1000\n",
            "2272/2400 [===========================>..] - ETA: 0s - loss: 0.8302 - acc: 0.6690"
          ],
          "name": "stdout"
        },
        {
          "output_type": "stream",
          "text": [
            "2400/2400 [==============================] - 2s 847us/step - loss: 0.8223 - acc: 0.6713\n",
            "Epoch 399/1000\n",
            "2400/2400 [==============================] - 2s 863us/step - loss: 0.8308 - acc: 0.6646\n",
            "Epoch 400/1000\n",
            "2400/2400 [==============================] - 2s 849us/step - loss: 0.8184 - acc: 0.6808\n",
            "Epoch 401/1000\n",
            "2400/2400 [==============================] - 2s 845us/step - loss: 0.8125 - acc: 0.6792\n",
            "Epoch 402/1000\n",
            "2400/2400 [==============================] - 2s 847us/step - loss: 0.8151 - acc: 0.6775\n",
            "Epoch 403/1000\n",
            "2400/2400 [==============================] - 2s 844us/step - loss: 0.8148 - acc: 0.6733\n",
            "Epoch 404/1000\n",
            "2272/2400 [===========================>..] - ETA: 0s - loss: 0.8113 - acc: 0.6805"
          ],
          "name": "stdout"
        },
        {
          "output_type": "stream",
          "text": [
            "2400/2400 [==============================] - 2s 838us/step - loss: 0.8099 - acc: 0.6783\n",
            "Epoch 405/1000\n",
            "2400/2400 [==============================] - 2s 826us/step - loss: 0.8060 - acc: 0.6821\n",
            "Epoch 406/1000\n",
            "2400/2400 [==============================] - 2s 830us/step - loss: 0.8171 - acc: 0.6696\n",
            "Epoch 407/1000\n",
            "2400/2400 [==============================] - 2s 832us/step - loss: 0.8186 - acc: 0.6696\n",
            "Epoch 408/1000\n",
            "2400/2400 [==============================] - 2s 822us/step - loss: 0.8047 - acc: 0.6871\n",
            "Epoch 409/1000\n",
            "2400/2400 [==============================] - 2s 839us/step - loss: 0.8162 - acc: 0.6850\n",
            "Epoch 410/1000\n",
            "2272/2400 [===========================>..] - ETA: 0s - loss: 0.8093 - acc: 0.6866"
          ],
          "name": "stdout"
        },
        {
          "output_type": "stream",
          "text": [
            "2400/2400 [==============================] - 2s 834us/step - loss: 0.8128 - acc: 0.6858\n",
            "Epoch 411/1000\n",
            "2400/2400 [==============================] - 2s 837us/step - loss: 0.8210 - acc: 0.6737\n",
            "Epoch 412/1000\n",
            "2400/2400 [==============================] - 2s 823us/step - loss: 0.8053 - acc: 0.6846\n",
            "Epoch 413/1000\n",
            "2400/2400 [==============================] - 2s 826us/step - loss: 0.8122 - acc: 0.6825\n",
            "Epoch 414/1000\n",
            "2400/2400 [==============================] - 2s 815us/step - loss: 0.8048 - acc: 0.6904\n",
            "Epoch 415/1000\n",
            "2400/2400 [==============================] - 2s 820us/step - loss: 0.8061 - acc: 0.6871\n",
            "Epoch 416/1000\n",
            "2272/2400 [===========================>..] - ETA: 0s - loss: 0.8100 - acc: 0.6840"
          ],
          "name": "stdout"
        },
        {
          "output_type": "stream",
          "text": [
            "2400/2400 [==============================] - 2s 836us/step - loss: 0.8080 - acc: 0.6858\n",
            "Epoch 417/1000\n",
            "2400/2400 [==============================] - 2s 828us/step - loss: 0.7951 - acc: 0.6925\n",
            "Epoch 418/1000\n",
            "2400/2400 [==============================] - 2s 829us/step - loss: 0.8062 - acc: 0.6733\n",
            "Epoch 419/1000\n",
            "2400/2400 [==============================] - 2s 826us/step - loss: 0.8078 - acc: 0.6838\n",
            "Epoch 420/1000\n",
            "2400/2400 [==============================] - 2s 826us/step - loss: 0.8040 - acc: 0.6850\n",
            "Epoch 421/1000\n",
            "2400/2400 [==============================] - 2s 831us/step - loss: 0.7940 - acc: 0.6967\n",
            "Epoch 422/1000\n",
            "2272/2400 [===========================>..] - ETA: 0s - loss: 0.8093 - acc: 0.6822"
          ],
          "name": "stdout"
        },
        {
          "output_type": "stream",
          "text": [
            "2400/2400 [==============================] - 2s 838us/step - loss: 0.8087 - acc: 0.6833\n",
            "Epoch 423/1000\n",
            "2400/2400 [==============================] - 2s 835us/step - loss: 0.8046 - acc: 0.6887\n",
            "Epoch 424/1000\n",
            "2400/2400 [==============================] - 2s 829us/step - loss: 0.7908 - acc: 0.6971\n",
            "Epoch 425/1000\n",
            "2400/2400 [==============================] - 2s 828us/step - loss: 0.7904 - acc: 0.6925\n",
            "Epoch 426/1000\n",
            "2400/2400 [==============================] - 2s 830us/step - loss: 0.7825 - acc: 0.6950\n",
            "Epoch 427/1000\n",
            "2400/2400 [==============================] - 2s 824us/step - loss: 0.7982 - acc: 0.6879\n",
            "Epoch 428/1000\n",
            "2272/2400 [===========================>..] - ETA: 0s - loss: 0.7893 - acc: 0.6879"
          ],
          "name": "stdout"
        },
        {
          "output_type": "stream",
          "text": [
            "2400/2400 [==============================] - 2s 832us/step - loss: 0.7948 - acc: 0.6879\n",
            "Epoch 429/1000\n",
            "2400/2400 [==============================] - 2s 836us/step - loss: 0.7742 - acc: 0.6979\n",
            "Epoch 430/1000\n",
            "2400/2400 [==============================] - 2s 830us/step - loss: 0.8014 - acc: 0.6796\n",
            "Epoch 431/1000\n",
            "2400/2400 [==============================] - 2s 834us/step - loss: 0.7919 - acc: 0.6950\n",
            "Epoch 432/1000\n",
            "2400/2400 [==============================] - 2s 831us/step - loss: 0.7951 - acc: 0.6821\n",
            "Epoch 433/1000\n",
            "2400/2400 [==============================] - 2s 826us/step - loss: 0.7847 - acc: 0.7021\n",
            "Epoch 434/1000\n",
            "2272/2400 [===========================>..] - ETA: 0s - loss: 0.7866 - acc: 0.6985"
          ],
          "name": "stdout"
        },
        {
          "output_type": "stream",
          "text": [
            "2400/2400 [==============================] - 2s 840us/step - loss: 0.7876 - acc: 0.6996\n",
            "Epoch 435/1000\n",
            "2400/2400 [==============================] - 2s 862us/step - loss: 0.7871 - acc: 0.6954\n",
            "Epoch 436/1000\n",
            "2400/2400 [==============================] - 2s 871us/step - loss: 0.7865 - acc: 0.6900\n",
            "Epoch 437/1000\n",
            "2400/2400 [==============================] - 2s 863us/step - loss: 0.7889 - acc: 0.7025\n",
            "Epoch 438/1000\n",
            "2400/2400 [==============================] - 2s 864us/step - loss: 0.7854 - acc: 0.6979\n",
            "Epoch 439/1000\n",
            "2400/2400 [==============================] - 2s 871us/step - loss: 0.7934 - acc: 0.6946\n",
            "Epoch 440/1000\n",
            "2272/2400 [===========================>..] - ETA: 0s - loss: 0.7771 - acc: 0.6998"
          ],
          "name": "stdout"
        },
        {
          "output_type": "stream",
          "text": [
            "2400/2400 [==============================] - 2s 912us/step - loss: 0.7786 - acc: 0.7017\n",
            "Epoch 441/1000\n",
            "2400/2400 [==============================] - 2s 920us/step - loss: 0.7872 - acc: 0.6971\n",
            "Epoch 442/1000\n",
            "2400/2400 [==============================] - 2s 912us/step - loss: 0.7952 - acc: 0.6887\n",
            "Epoch 443/1000\n",
            "2400/2400 [==============================] - 2s 908us/step - loss: 0.7814 - acc: 0.6917\n",
            "Epoch 444/1000\n",
            "2400/2400 [==============================] - 2s 913us/step - loss: 0.7728 - acc: 0.7008\n",
            "Epoch 445/1000\n",
            "2400/2400 [==============================] - 2s 910us/step - loss: 0.7756 - acc: 0.6963\n",
            "Epoch 446/1000\n",
            "2080/2400 [=========================>....] - ETA: 0s - loss: 0.7728 - acc: 0.7038"
          ],
          "name": "stdout"
        },
        {
          "output_type": "stream",
          "text": [
            "2400/2400 [==============================] - 2s 911us/step - loss: 0.7723 - acc: 0.7013\n",
            "Epoch 447/1000\n",
            "2400/2400 [==============================] - 2s 913us/step - loss: 0.7640 - acc: 0.6971\n",
            "Epoch 448/1000\n",
            "2400/2400 [==============================] - 2s 920us/step - loss: 0.7663 - acc: 0.7125\n",
            "Epoch 449/1000\n",
            "2400/2400 [==============================] - 2s 916us/step - loss: 0.7660 - acc: 0.7050\n",
            "Epoch 450/1000\n",
            "2400/2400 [==============================] - 2s 914us/step - loss: 0.7759 - acc: 0.6921\n",
            "Epoch 451/1000\n",
            "2400/2400 [==============================] - 2s 902us/step - loss: 0.7771 - acc: 0.7033\n",
            "Epoch 452/1000\n",
            "2080/2400 [=========================>....] - ETA: 0s - loss: 0.7783 - acc: 0.7115"
          ],
          "name": "stdout"
        },
        {
          "output_type": "stream",
          "text": [
            "2400/2400 [==============================] - 2s 916us/step - loss: 0.7702 - acc: 0.7096\n",
            "Epoch 453/1000\n",
            "2400/2400 [==============================] - 2s 907us/step - loss: 0.7541 - acc: 0.7054\n",
            "Epoch 454/1000\n",
            "2400/2400 [==============================] - 2s 919us/step - loss: 0.7689 - acc: 0.7004\n",
            "Epoch 455/1000\n",
            "2400/2400 [==============================] - 2s 912us/step - loss: 0.7613 - acc: 0.7062\n",
            "Epoch 456/1000\n",
            "2400/2400 [==============================] - 2s 922us/step - loss: 0.7678 - acc: 0.6983\n",
            "Epoch 457/1000\n",
            "2400/2400 [==============================] - 2s 897us/step - loss: 0.7806 - acc: 0.7004\n",
            "Epoch 458/1000\n",
            "2016/2400 [========================>.....] - ETA: 0s - loss: 0.7510 - acc: 0.7113"
          ],
          "name": "stdout"
        },
        {
          "output_type": "stream",
          "text": [
            "2400/2400 [==============================] - 2s 887us/step - loss: 0.7736 - acc: 0.7054\n",
            "Epoch 459/1000\n",
            "2400/2400 [==============================] - 2s 888us/step - loss: 0.7563 - acc: 0.7100\n",
            "Epoch 460/1000\n",
            "2400/2400 [==============================] - 2s 896us/step - loss: 0.7652 - acc: 0.7150\n",
            "Epoch 461/1000\n",
            "2400/2400 [==============================] - 2s 894us/step - loss: 0.7511 - acc: 0.7158\n",
            "Epoch 462/1000\n",
            "2400/2400 [==============================] - 2s 893us/step - loss: 0.7589 - acc: 0.7079\n",
            "Epoch 463/1000\n",
            "2400/2400 [==============================] - 2s 886us/step - loss: 0.7684 - acc: 0.7029\n",
            "Epoch 464/1000\n",
            "2144/2400 [=========================>....] - ETA: 0s - loss: 0.7564 - acc: 0.7015"
          ],
          "name": "stdout"
        },
        {
          "output_type": "stream",
          "text": [
            "2400/2400 [==============================] - 2s 868us/step - loss: 0.7564 - acc: 0.7046\n",
            "Epoch 465/1000\n",
            "2400/2400 [==============================] - 2s 879us/step - loss: 0.7532 - acc: 0.7092\n",
            "Epoch 466/1000\n",
            "2400/2400 [==============================] - 2s 890us/step - loss: 0.7574 - acc: 0.7150\n",
            "Epoch 467/1000\n",
            "2400/2400 [==============================] - 2s 864us/step - loss: 0.7630 - acc: 0.7108\n",
            "Epoch 468/1000\n",
            "2400/2400 [==============================] - 2s 852us/step - loss: 0.7547 - acc: 0.7137\n",
            "Epoch 469/1000\n",
            "2400/2400 [==============================] - 2s 872us/step - loss: 0.7429 - acc: 0.7121\n",
            "Epoch 470/1000\n",
            "2016/2400 [========================>.....] - ETA: 0s - loss: 0.7513 - acc: 0.7153"
          ],
          "name": "stdout"
        },
        {
          "output_type": "stream",
          "text": [
            "2400/2400 [==============================] - 2s 879us/step - loss: 0.7629 - acc: 0.7075\n",
            "Epoch 471/1000\n",
            "2400/2400 [==============================] - 2s 886us/step - loss: 0.7478 - acc: 0.7154\n",
            "Epoch 472/1000\n",
            "2400/2400 [==============================] - 2s 885us/step - loss: 0.7440 - acc: 0.7208\n",
            "Epoch 473/1000\n",
            "2400/2400 [==============================] - 2s 885us/step - loss: 0.7453 - acc: 0.7167\n",
            "Epoch 474/1000\n",
            "2400/2400 [==============================] - 2s 880us/step - loss: 0.7514 - acc: 0.7163\n",
            "Epoch 475/1000\n",
            "2400/2400 [==============================] - 2s 876us/step - loss: 0.7507 - acc: 0.7067\n",
            "Epoch 476/1000\n",
            "2080/2400 [=========================>....] - ETA: 0s - loss: 0.7617 - acc: 0.7058"
          ],
          "name": "stdout"
        },
        {
          "output_type": "stream",
          "text": [
            "2400/2400 [==============================] - 2s 876us/step - loss: 0.7524 - acc: 0.7025\n",
            "Epoch 477/1000\n",
            "2400/2400 [==============================] - 2s 889us/step - loss: 0.7425 - acc: 0.7254\n",
            "Epoch 478/1000\n",
            "2400/2400 [==============================] - 2s 900us/step - loss: 0.7547 - acc: 0.7221\n",
            "Epoch 479/1000\n",
            "2400/2400 [==============================] - 2s 912us/step - loss: 0.7531 - acc: 0.7087\n",
            "Epoch 480/1000\n",
            "2400/2400 [==============================] - 2s 885us/step - loss: 0.7428 - acc: 0.7158\n",
            "Epoch 481/1000\n",
            "2400/2400 [==============================] - 2s 882us/step - loss: 0.7307 - acc: 0.7275\n",
            "Epoch 482/1000\n",
            "2080/2400 [=========================>....] - ETA: 0s - loss: 0.7504 - acc: 0.7154"
          ],
          "name": "stdout"
        },
        {
          "output_type": "stream",
          "text": [
            "2400/2400 [==============================] - 2s 876us/step - loss: 0.7430 - acc: 0.7125\n",
            "Epoch 483/1000\n",
            "2400/2400 [==============================] - 2s 845us/step - loss: 0.7374 - acc: 0.7200\n",
            "Epoch 484/1000\n",
            "2400/2400 [==============================] - 2s 823us/step - loss: 0.7368 - acc: 0.7229\n",
            "Epoch 485/1000\n",
            "2400/2400 [==============================] - 2s 822us/step - loss: 0.7411 - acc: 0.7238\n",
            "Epoch 486/1000\n",
            "2400/2400 [==============================] - 2s 825us/step - loss: 0.7354 - acc: 0.7279\n",
            "Epoch 487/1000\n",
            "2400/2400 [==============================] - 2s 840us/step - loss: 0.7394 - acc: 0.7133\n",
            "Epoch 488/1000\n",
            "2240/2400 [===========================>..] - ETA: 0s - loss: 0.7341 - acc: 0.7143"
          ],
          "name": "stdout"
        },
        {
          "output_type": "stream",
          "text": [
            "2400/2400 [==============================] - 2s 820us/step - loss: 0.7284 - acc: 0.7171\n",
            "Epoch 489/1000\n",
            "2400/2400 [==============================] - 2s 817us/step - loss: 0.7424 - acc: 0.7233\n",
            "Epoch 490/1000\n",
            "2400/2400 [==============================] - 2s 816us/step - loss: 0.7329 - acc: 0.7238\n",
            "Epoch 491/1000\n",
            "2400/2400 [==============================] - 2s 826us/step - loss: 0.7292 - acc: 0.7229\n",
            "Epoch 492/1000\n",
            "2400/2400 [==============================] - 2s 822us/step - loss: 0.7299 - acc: 0.7217\n",
            "Epoch 493/1000\n",
            "2400/2400 [==============================] - 2s 823us/step - loss: 0.7250 - acc: 0.7308\n",
            "Epoch 494/1000\n",
            "2336/2400 [============================>.] - ETA: 0s - loss: 0.7383 - acc: 0.7170"
          ],
          "name": "stdout"
        },
        {
          "output_type": "stream",
          "text": [
            "2400/2400 [==============================] - 2s 821us/step - loss: 0.7350 - acc: 0.7158\n",
            "Epoch 495/1000\n",
            "2400/2400 [==============================] - 2s 819us/step - loss: 0.7272 - acc: 0.7204\n",
            "Epoch 496/1000\n",
            "2400/2400 [==============================] - 2s 816us/step - loss: 0.7276 - acc: 0.7288\n",
            "Epoch 497/1000\n",
            "2400/2400 [==============================] - 2s 819us/step - loss: 0.7222 - acc: 0.7292\n",
            "Epoch 498/1000\n",
            "2400/2400 [==============================] - 2s 820us/step - loss: 0.7161 - acc: 0.7317\n",
            "Epoch 499/1000\n",
            "2400/2400 [==============================] - 2s 838us/step - loss: 0.7271 - acc: 0.7225\n",
            "Epoch 500/1000\n",
            "2176/2400 [==========================>...] - ETA: 0s - loss: 0.7178 - acc: 0.7298"
          ],
          "name": "stdout"
        },
        {
          "output_type": "stream",
          "text": [
            "2400/2400 [==============================] - 2s 828us/step - loss: 0.7213 - acc: 0.7325\n",
            "Epoch 501/1000\n",
            "2400/2400 [==============================] - 2s 826us/step - loss: 0.7232 - acc: 0.7317\n",
            "Epoch 502/1000\n",
            "2400/2400 [==============================] - 2s 864us/step - loss: 0.7276 - acc: 0.7217\n",
            "Epoch 503/1000\n",
            "2400/2400 [==============================] - 2s 878us/step - loss: 0.7162 - acc: 0.7350\n",
            "Epoch 504/1000\n",
            "2400/2400 [==============================] - 2s 879us/step - loss: 0.7199 - acc: 0.7288\n",
            "Epoch 505/1000\n",
            "2400/2400 [==============================] - 2s 868us/step - loss: 0.7266 - acc: 0.7313\n",
            "Epoch 506/1000\n",
            "2208/2400 [==========================>...] - ETA: 0s - loss: 0.7225 - acc: 0.7269"
          ],
          "name": "stdout"
        },
        {
          "output_type": "stream",
          "text": [
            "2400/2400 [==============================] - 2s 862us/step - loss: 0.7234 - acc: 0.7262\n",
            "Epoch 507/1000\n",
            "2400/2400 [==============================] - 2s 874us/step - loss: 0.7177 - acc: 0.7333\n",
            "Epoch 508/1000\n",
            "2400/2400 [==============================] - 2s 884us/step - loss: 0.7106 - acc: 0.7338\n",
            "Epoch 509/1000\n",
            "2400/2400 [==============================] - 2s 853us/step - loss: 0.7119 - acc: 0.7317\n",
            "Epoch 510/1000\n",
            "2400/2400 [==============================] - 2s 825us/step - loss: 0.7172 - acc: 0.7271\n",
            "Epoch 511/1000\n",
            "2400/2400 [==============================] - 2s 834us/step - loss: 0.7173 - acc: 0.7321\n",
            "Epoch 512/1000\n",
            "2272/2400 [===========================>..] - ETA: 0s - loss: 0.7008 - acc: 0.7416"
          ],
          "name": "stdout"
        },
        {
          "output_type": "stream",
          "text": [
            "2400/2400 [==============================] - 2s 835us/step - loss: 0.7071 - acc: 0.7358\n",
            "Epoch 513/1000\n",
            "2400/2400 [==============================] - 2s 834us/step - loss: 0.7063 - acc: 0.7350\n",
            "Epoch 514/1000\n",
            "2400/2400 [==============================] - 2s 840us/step - loss: 0.7140 - acc: 0.7333\n",
            "Epoch 515/1000\n",
            "2400/2400 [==============================] - 2s 850us/step - loss: 0.7108 - acc: 0.7321\n",
            "Epoch 516/1000\n",
            "2400/2400 [==============================] - 2s 830us/step - loss: 0.7118 - acc: 0.7421\n",
            "Epoch 517/1000\n",
            "2400/2400 [==============================] - 2s 847us/step - loss: 0.6999 - acc: 0.7379\n",
            "Epoch 518/1000\n",
            "2272/2400 [===========================>..] - ETA: 0s - loss: 0.6983 - acc: 0.7408"
          ],
          "name": "stdout"
        },
        {
          "output_type": "stream",
          "text": [
            "2400/2400 [==============================] - 2s 828us/step - loss: 0.6952 - acc: 0.7392\n",
            "Epoch 519/1000\n",
            "2400/2400 [==============================] - 2s 824us/step - loss: 0.7002 - acc: 0.7313\n",
            "Epoch 520/1000\n",
            "2400/2400 [==============================] - 2s 828us/step - loss: 0.7065 - acc: 0.7358\n",
            "Epoch 521/1000\n",
            "2400/2400 [==============================] - 2s 825us/step - loss: 0.6982 - acc: 0.7467\n",
            "Epoch 522/1000\n",
            "2400/2400 [==============================] - 2s 826us/step - loss: 0.7032 - acc: 0.7313\n",
            "Epoch 523/1000\n",
            "2400/2400 [==============================] - 2s 834us/step - loss: 0.6931 - acc: 0.7383\n",
            "Epoch 524/1000\n",
            "2272/2400 [===========================>..] - ETA: 0s - loss: 0.7037 - acc: 0.7350"
          ],
          "name": "stdout"
        },
        {
          "output_type": "stream",
          "text": [
            "2400/2400 [==============================] - 2s 826us/step - loss: 0.7000 - acc: 0.7362\n",
            "Epoch 525/1000\n",
            "2400/2400 [==============================] - 2s 834us/step - loss: 0.6966 - acc: 0.7467\n",
            "Epoch 526/1000\n",
            "2400/2400 [==============================] - 2s 828us/step - loss: 0.7093 - acc: 0.7371\n",
            "Epoch 527/1000\n",
            "2400/2400 [==============================] - 2s 830us/step - loss: 0.6971 - acc: 0.7404\n",
            "Epoch 528/1000\n",
            "2400/2400 [==============================] - 2s 831us/step - loss: 0.6990 - acc: 0.7367\n",
            "Epoch 529/1000\n",
            "2400/2400 [==============================] - 2s 845us/step - loss: 0.7029 - acc: 0.7421\n",
            "Epoch 530/1000\n",
            "2208/2400 [==========================>...] - ETA: 0s - loss: 0.6887 - acc: 0.7414"
          ],
          "name": "stdout"
        },
        {
          "output_type": "stream",
          "text": [
            "2400/2400 [==============================] - 2s 867us/step - loss: 0.6965 - acc: 0.7354\n",
            "Epoch 531/1000\n",
            "2400/2400 [==============================] - 2s 845us/step - loss: 0.6985 - acc: 0.7463\n",
            "Epoch 532/1000\n",
            "2400/2400 [==============================] - 2s 867us/step - loss: 0.6942 - acc: 0.7433\n",
            "Epoch 533/1000\n",
            "2400/2400 [==============================] - 2s 880us/step - loss: 0.6810 - acc: 0.7542\n",
            "Epoch 534/1000\n",
            "2400/2400 [==============================] - 2s 858us/step - loss: 0.6874 - acc: 0.7442\n",
            "Epoch 535/1000\n",
            "2400/2400 [==============================] - 2s 853us/step - loss: 0.6932 - acc: 0.7446\n",
            "Epoch 536/1000\n",
            "2272/2400 [===========================>..] - ETA: 0s - loss: 0.6921 - acc: 0.7447"
          ],
          "name": "stdout"
        },
        {
          "output_type": "stream",
          "text": [
            "2400/2400 [==============================] - 2s 855us/step - loss: 0.6887 - acc: 0.7488\n",
            "Epoch 537/1000\n",
            "2400/2400 [==============================] - 2s 860us/step - loss: 0.6923 - acc: 0.7379\n",
            "Epoch 538/1000\n",
            "2400/2400 [==============================] - 2s 877us/step - loss: 0.6958 - acc: 0.7467\n",
            "Epoch 539/1000\n",
            "2400/2400 [==============================] - 2s 865us/step - loss: 0.6821 - acc: 0.7479\n",
            "Epoch 540/1000\n",
            "2400/2400 [==============================] - 2s 862us/step - loss: 0.6733 - acc: 0.7521\n",
            "Epoch 541/1000\n",
            "2400/2400 [==============================] - 2s 859us/step - loss: 0.6833 - acc: 0.7354\n",
            "Epoch 542/1000\n",
            "2272/2400 [===========================>..] - ETA: 0s - loss: 0.6730 - acc: 0.7570"
          ],
          "name": "stdout"
        },
        {
          "output_type": "stream",
          "text": [
            "2400/2400 [==============================] - 2s 868us/step - loss: 0.6789 - acc: 0.7537\n",
            "Epoch 543/1000\n",
            "2400/2400 [==============================] - 2s 864us/step - loss: 0.6782 - acc: 0.7504\n",
            "Epoch 544/1000\n",
            "2400/2400 [==============================] - 2s 861us/step - loss: 0.6706 - acc: 0.7508\n",
            "Epoch 545/1000\n",
            "2400/2400 [==============================] - 2s 862us/step - loss: 0.6702 - acc: 0.7508\n",
            "Epoch 546/1000\n",
            "2400/2400 [==============================] - 2s 856us/step - loss: 0.6764 - acc: 0.7521\n",
            "Epoch 547/1000\n",
            "2400/2400 [==============================] - 2s 867us/step - loss: 0.6792 - acc: 0.7483\n",
            "Epoch 548/1000\n",
            "2208/2400 [==========================>...] - ETA: 0s - loss: 0.6873 - acc: 0.7387"
          ],
          "name": "stdout"
        },
        {
          "output_type": "stream",
          "text": [
            "2400/2400 [==============================] - 2s 872us/step - loss: 0.6881 - acc: 0.7408\n",
            "Epoch 549/1000\n",
            "2400/2400 [==============================] - 2s 864us/step - loss: 0.6822 - acc: 0.7500\n",
            "Epoch 550/1000\n",
            "2400/2400 [==============================] - 2s 864us/step - loss: 0.6773 - acc: 0.7517\n",
            "Epoch 551/1000\n",
            "2400/2400 [==============================] - 2s 876us/step - loss: 0.6744 - acc: 0.7525\n",
            "Epoch 552/1000\n",
            "2400/2400 [==============================] - 2s 873us/step - loss: 0.6804 - acc: 0.7500\n",
            "Epoch 553/1000\n",
            "2400/2400 [==============================] - 2s 878us/step - loss: 0.6719 - acc: 0.7463\n",
            "Epoch 554/1000\n",
            "2208/2400 [==========================>...] - ETA: 0s - loss: 0.6769 - acc: 0.7563"
          ],
          "name": "stdout"
        },
        {
          "output_type": "stream",
          "text": [
            "2400/2400 [==============================] - 2s 885us/step - loss: 0.6853 - acc: 0.7496\n",
            "Epoch 555/1000\n",
            "2400/2400 [==============================] - 2s 890us/step - loss: 0.6705 - acc: 0.7512\n",
            "Epoch 556/1000\n",
            "2400/2400 [==============================] - 2s 875us/step - loss: 0.6614 - acc: 0.7579\n",
            "Epoch 557/1000\n",
            "2400/2400 [==============================] - 2s 877us/step - loss: 0.6730 - acc: 0.7483\n",
            "Epoch 558/1000\n",
            "2400/2400 [==============================] - 2s 888us/step - loss: 0.6693 - acc: 0.7504\n",
            "Epoch 559/1000\n",
            "2400/2400 [==============================] - 2s 885us/step - loss: 0.6767 - acc: 0.7537\n",
            "Epoch 560/1000\n",
            "2080/2400 [=========================>....] - ETA: 0s - loss: 0.6691 - acc: 0.7466"
          ],
          "name": "stdout"
        },
        {
          "output_type": "stream",
          "text": [
            "2400/2400 [==============================] - 2s 878us/step - loss: 0.6711 - acc: 0.7454\n",
            "Epoch 561/1000\n",
            "2400/2400 [==============================] - 2s 898us/step - loss: 0.6703 - acc: 0.7654\n",
            "Epoch 562/1000\n",
            "2400/2400 [==============================] - 2s 905us/step - loss: 0.6685 - acc: 0.7562\n",
            "Epoch 563/1000\n",
            "2400/2400 [==============================] - 2s 891us/step - loss: 0.6626 - acc: 0.7608\n",
            "Epoch 564/1000\n",
            "2400/2400 [==============================] - 2s 890us/step - loss: 0.6747 - acc: 0.7417\n",
            "Epoch 565/1000\n",
            "2400/2400 [==============================] - 2s 893us/step - loss: 0.6564 - acc: 0.7554\n",
            "Epoch 566/1000\n",
            "2144/2400 [=========================>....] - ETA: 0s - loss: 0.6572 - acc: 0.7649"
          ],
          "name": "stdout"
        },
        {
          "output_type": "stream",
          "text": [
            "2400/2400 [==============================] - 2s 875us/step - loss: 0.6604 - acc: 0.7621\n",
            "Epoch 567/1000\n",
            "2400/2400 [==============================] - 2s 883us/step - loss: 0.6599 - acc: 0.7604\n",
            "Epoch 568/1000\n",
            "2400/2400 [==============================] - 2s 877us/step - loss: 0.6698 - acc: 0.7496\n",
            "Epoch 569/1000\n",
            "2400/2400 [==============================] - 2s 877us/step - loss: 0.6570 - acc: 0.7554\n",
            "Epoch 570/1000\n",
            "2400/2400 [==============================] - 2s 877us/step - loss: 0.6561 - acc: 0.7546\n",
            "Epoch 571/1000\n",
            "2400/2400 [==============================] - 2s 885us/step - loss: 0.6600 - acc: 0.7567\n",
            "Epoch 572/1000\n",
            "2208/2400 [==========================>...] - ETA: 0s - loss: 0.6527 - acc: 0.7518"
          ],
          "name": "stdout"
        },
        {
          "output_type": "stream",
          "text": [
            "2400/2400 [==============================] - 2s 882us/step - loss: 0.6569 - acc: 0.7508\n",
            "Epoch 573/1000\n",
            "2400/2400 [==============================] - 2s 880us/step - loss: 0.6648 - acc: 0.7521\n",
            "Epoch 574/1000\n",
            "2400/2400 [==============================] - 2s 883us/step - loss: 0.6617 - acc: 0.7608\n",
            "Epoch 575/1000\n",
            "2400/2400 [==============================] - 2s 889us/step - loss: 0.6369 - acc: 0.7729\n",
            "Epoch 576/1000\n",
            "2400/2400 [==============================] - 2s 877us/step - loss: 0.6759 - acc: 0.7475\n",
            "Epoch 577/1000\n",
            "2400/2400 [==============================] - 2s 862us/step - loss: 0.6433 - acc: 0.7671\n",
            "Epoch 578/1000\n",
            "2080/2400 [=========================>....] - ETA: 0s - loss: 0.6726 - acc: 0.7514"
          ],
          "name": "stdout"
        },
        {
          "output_type": "stream",
          "text": [
            "2400/2400 [==============================] - 2s 871us/step - loss: 0.6629 - acc: 0.7583\n",
            "Epoch 579/1000\n",
            "2400/2400 [==============================] - 2s 891us/step - loss: 0.6477 - acc: 0.7600\n",
            "Epoch 580/1000\n",
            "2400/2400 [==============================] - 2s 904us/step - loss: 0.6554 - acc: 0.7583\n",
            "Epoch 581/1000\n",
            "2400/2400 [==============================] - 2s 913us/step - loss: 0.6572 - acc: 0.7596\n",
            "Epoch 582/1000\n",
            "2400/2400 [==============================] - 2s 915us/step - loss: 0.6465 - acc: 0.7596\n",
            "Epoch 583/1000\n",
            "2400/2400 [==============================] - 2s 914us/step - loss: 0.6413 - acc: 0.7712\n",
            "Epoch 584/1000\n",
            "2080/2400 [=========================>....] - ETA: 0s - loss: 0.6521 - acc: 0.7562"
          ],
          "name": "stdout"
        },
        {
          "output_type": "stream",
          "text": [
            "2400/2400 [==============================] - 2s 915us/step - loss: 0.6573 - acc: 0.7537\n",
            "Epoch 585/1000\n",
            "2400/2400 [==============================] - 2s 913us/step - loss: 0.6438 - acc: 0.7583\n",
            "Epoch 586/1000\n",
            "2400/2400 [==============================] - 2s 909us/step - loss: 0.6522 - acc: 0.7600\n",
            "Epoch 587/1000\n",
            "2400/2400 [==============================] - 2s 912us/step - loss: 0.6494 - acc: 0.7571\n",
            "Epoch 588/1000\n",
            "2400/2400 [==============================] - 2s 910us/step - loss: 0.6484 - acc: 0.7650\n",
            "Epoch 589/1000\n",
            "2400/2400 [==============================] - 2s 916us/step - loss: 0.6440 - acc: 0.7629\n",
            "Epoch 590/1000\n",
            "2144/2400 [=========================>....] - ETA: 0s - loss: 0.6607 - acc: 0.7565"
          ],
          "name": "stdout"
        },
        {
          "output_type": "stream",
          "text": [
            "2400/2400 [==============================] - 2s 917us/step - loss: 0.6544 - acc: 0.7600\n",
            "Epoch 591/1000\n",
            "2400/2400 [==============================] - 2s 927us/step - loss: 0.6295 - acc: 0.7729\n",
            "Epoch 592/1000\n",
            "2400/2400 [==============================] - 2s 915us/step - loss: 0.6469 - acc: 0.7687\n",
            "Epoch 593/1000\n",
            "2400/2400 [==============================] - 2s 914us/step - loss: 0.6595 - acc: 0.7546\n",
            "Epoch 594/1000\n",
            "2400/2400 [==============================] - 2s 920us/step - loss: 0.6504 - acc: 0.7588\n",
            "Epoch 595/1000\n",
            "2400/2400 [==============================] - 2s 912us/step - loss: 0.6434 - acc: 0.7738\n",
            "Epoch 596/1000\n",
            "2080/2400 [=========================>....] - ETA: 0s - loss: 0.6429 - acc: 0.7673"
          ],
          "name": "stdout"
        },
        {
          "output_type": "stream",
          "text": [
            "2400/2400 [==============================] - 2s 902us/step - loss: 0.6407 - acc: 0.7654\n",
            "Epoch 597/1000\n",
            "2400/2400 [==============================] - 2s 909us/step - loss: 0.6590 - acc: 0.7554\n",
            "Epoch 598/1000\n",
            "2400/2400 [==============================] - 2s 924us/step - loss: 0.6303 - acc: 0.7717\n",
            "Epoch 599/1000\n",
            "2400/2400 [==============================] - 2s 916us/step - loss: 0.6431 - acc: 0.7592\n",
            "Epoch 600/1000\n",
            "2400/2400 [==============================] - 2s 910us/step - loss: 0.6428 - acc: 0.7654\n",
            "Epoch 601/1000\n",
            "2400/2400 [==============================] - 2s 913us/step - loss: 0.6402 - acc: 0.7717\n",
            "Epoch 602/1000\n",
            "2080/2400 [=========================>....] - ETA: 0s - loss: 0.6283 - acc: 0.7736"
          ],
          "name": "stdout"
        },
        {
          "output_type": "stream",
          "text": [
            "2400/2400 [==============================] - 2s 914us/step - loss: 0.6297 - acc: 0.7733\n",
            "Epoch 603/1000\n",
            "2400/2400 [==============================] - 2s 928us/step - loss: 0.6313 - acc: 0.7754\n",
            "Epoch 604/1000\n",
            "2400/2400 [==============================] - 2s 916us/step - loss: 0.6224 - acc: 0.7800\n",
            "Epoch 605/1000\n",
            "2400/2400 [==============================] - 2s 914us/step - loss: 0.6377 - acc: 0.7608\n",
            "Epoch 606/1000\n",
            "2400/2400 [==============================] - 2s 907us/step - loss: 0.6167 - acc: 0.7833\n",
            "Epoch 607/1000\n",
            "2400/2400 [==============================] - 2s 904us/step - loss: 0.6330 - acc: 0.7700\n",
            "Epoch 608/1000\n",
            "2080/2400 [=========================>....] - ETA: 0s - loss: 0.6309 - acc: 0.7688"
          ],
          "name": "stdout"
        },
        {
          "output_type": "stream",
          "text": [
            "2400/2400 [==============================] - 2s 909us/step - loss: 0.6258 - acc: 0.7708\n",
            "Epoch 609/1000\n",
            "2400/2400 [==============================] - 2s 905us/step - loss: 0.6424 - acc: 0.7638\n",
            "Epoch 610/1000\n",
            "2400/2400 [==============================] - 2s 904us/step - loss: 0.6372 - acc: 0.7625\n",
            "Epoch 611/1000\n",
            "2400/2400 [==============================] - 2s 912us/step - loss: 0.6383 - acc: 0.7704\n",
            "Epoch 612/1000\n",
            "2400/2400 [==============================] - 2s 913us/step - loss: 0.6247 - acc: 0.7775\n",
            "Epoch 613/1000\n",
            "2400/2400 [==============================] - 2s 920us/step - loss: 0.6398 - acc: 0.7625\n",
            "Epoch 614/1000\n",
            "2080/2400 [=========================>....] - ETA: 0s - loss: 0.6333 - acc: 0.7668"
          ],
          "name": "stdout"
        },
        {
          "output_type": "stream",
          "text": [
            "2400/2400 [==============================] - 2s 918us/step - loss: 0.6355 - acc: 0.7646\n",
            "Epoch 615/1000\n",
            "2400/2400 [==============================] - 2s 934us/step - loss: 0.6217 - acc: 0.7704\n",
            "Epoch 616/1000\n",
            "2400/2400 [==============================] - 2s 911us/step - loss: 0.6255 - acc: 0.7771\n",
            "Epoch 617/1000\n",
            "2400/2400 [==============================] - 2s 911us/step - loss: 0.6299 - acc: 0.7742\n",
            "Epoch 618/1000\n",
            "2400/2400 [==============================] - 2s 909us/step - loss: 0.6230 - acc: 0.7679\n",
            "Epoch 619/1000\n",
            "2400/2400 [==============================] - 2s 911us/step - loss: 0.6321 - acc: 0.7708\n",
            "Epoch 620/1000\n",
            "2080/2400 [=========================>....] - ETA: 0s - loss: 0.6320 - acc: 0.7745"
          ],
          "name": "stdout"
        },
        {
          "output_type": "stream",
          "text": [
            "2400/2400 [==============================] - 2s 906us/step - loss: 0.6226 - acc: 0.7746\n",
            "Epoch 621/1000\n",
            "2400/2400 [==============================] - 2s 920us/step - loss: 0.6285 - acc: 0.7692\n",
            "Epoch 622/1000\n",
            "2400/2400 [==============================] - 2s 920us/step - loss: 0.6131 - acc: 0.7788\n",
            "Epoch 623/1000\n",
            "2400/2400 [==============================] - 2s 912us/step - loss: 0.6177 - acc: 0.7788\n",
            "Epoch 624/1000\n",
            "2400/2400 [==============================] - 2s 914us/step - loss: 0.6262 - acc: 0.7696\n",
            "Epoch 625/1000\n",
            "2400/2400 [==============================] - 2s 917us/step - loss: 0.6113 - acc: 0.7792\n",
            "Epoch 626/1000\n",
            "2080/2400 [=========================>....] - ETA: 0s - loss: 0.6233 - acc: 0.7755"
          ],
          "name": "stdout"
        },
        {
          "output_type": "stream",
          "text": [
            "2400/2400 [==============================] - 2s 915us/step - loss: 0.6188 - acc: 0.7783\n",
            "Epoch 627/1000\n",
            "2400/2400 [==============================] - 2s 906us/step - loss: 0.6172 - acc: 0.7792\n",
            "Epoch 628/1000\n",
            "2400/2400 [==============================] - 2s 898us/step - loss: 0.6167 - acc: 0.7817\n",
            "Epoch 629/1000\n",
            "2400/2400 [==============================] - 2s 910us/step - loss: 0.6040 - acc: 0.7858\n",
            "Epoch 630/1000\n",
            "2400/2400 [==============================] - 2s 910us/step - loss: 0.6080 - acc: 0.7788\n",
            "Epoch 631/1000\n",
            "2400/2400 [==============================] - 2s 923us/step - loss: 0.6056 - acc: 0.7854\n",
            "Epoch 632/1000\n",
            "2080/2400 [=========================>....] - ETA: 0s - loss: 0.6324 - acc: 0.7721"
          ],
          "name": "stdout"
        },
        {
          "output_type": "stream",
          "text": [
            "2400/2400 [==============================] - 2s 912us/step - loss: 0.6225 - acc: 0.7746\n",
            "Epoch 633/1000\n",
            "2400/2400 [==============================] - 2s 919us/step - loss: 0.5935 - acc: 0.7942\n",
            "Epoch 634/1000\n",
            "2400/2400 [==============================] - 2s 908us/step - loss: 0.6045 - acc: 0.7842\n",
            "Epoch 635/1000\n",
            "2400/2400 [==============================] - 2s 899us/step - loss: 0.6091 - acc: 0.7804\n",
            "Epoch 636/1000\n",
            "2400/2400 [==============================] - 2s 920us/step - loss: 0.6121 - acc: 0.7742\n",
            "Epoch 637/1000\n",
            "2400/2400 [==============================] - 2s 898us/step - loss: 0.6082 - acc: 0.7875\n",
            "Epoch 638/1000\n",
            "2016/2400 [========================>.....] - ETA: 0s - loss: 0.6232 - acc: 0.7842"
          ],
          "name": "stdout"
        },
        {
          "output_type": "stream",
          "text": [
            "2400/2400 [==============================] - 2s 920us/step - loss: 0.6181 - acc: 0.7825\n",
            "Epoch 639/1000\n",
            "2400/2400 [==============================] - 2s 909us/step - loss: 0.6080 - acc: 0.7821\n",
            "Epoch 640/1000\n",
            "2400/2400 [==============================] - 2s 911us/step - loss: 0.6108 - acc: 0.7887\n",
            "Epoch 641/1000\n",
            "2400/2400 [==============================] - 2s 921us/step - loss: 0.6058 - acc: 0.7854\n",
            "Epoch 642/1000\n",
            "2400/2400 [==============================] - 2s 904us/step - loss: 0.6026 - acc: 0.7833\n",
            "Epoch 643/1000\n",
            "2400/2400 [==============================] - 2s 921us/step - loss: 0.6157 - acc: 0.7788\n",
            "Epoch 644/1000\n",
            "2016/2400 [========================>.....] - ETA: 0s - loss: 0.6052 - acc: 0.7857"
          ],
          "name": "stdout"
        },
        {
          "output_type": "stream",
          "text": [
            "2400/2400 [==============================] - 2s 911us/step - loss: 0.6034 - acc: 0.7875\n",
            "Epoch 645/1000\n",
            "2400/2400 [==============================] - 2s 915us/step - loss: 0.5992 - acc: 0.7892\n",
            "Epoch 646/1000\n",
            "2400/2400 [==============================] - 2s 922us/step - loss: 0.6160 - acc: 0.7858\n",
            "Epoch 647/1000\n",
            "2400/2400 [==============================] - 2s 915us/step - loss: 0.6093 - acc: 0.7817\n",
            "Epoch 648/1000\n",
            "2400/2400 [==============================] - 2s 919us/step - loss: 0.5982 - acc: 0.7829\n",
            "Epoch 649/1000\n",
            "2400/2400 [==============================] - 2s 932us/step - loss: 0.6057 - acc: 0.7854\n",
            "Epoch 650/1000\n",
            "2080/2400 [=========================>....] - ETA: 0s - loss: 0.5966 - acc: 0.7865"
          ],
          "name": "stdout"
        },
        {
          "output_type": "stream",
          "text": [
            "2400/2400 [==============================] - 2s 914us/step - loss: 0.5862 - acc: 0.7892\n",
            "Epoch 651/1000\n",
            "2400/2400 [==============================] - 2s 907us/step - loss: 0.5820 - acc: 0.7975\n",
            "Epoch 652/1000\n",
            "2400/2400 [==============================] - 2s 905us/step - loss: 0.5994 - acc: 0.7879\n",
            "Epoch 653/1000\n",
            "2400/2400 [==============================] - 2s 905us/step - loss: 0.5883 - acc: 0.7917\n",
            "Epoch 654/1000\n",
            "2400/2400 [==============================] - 2s 915us/step - loss: 0.5919 - acc: 0.7875\n",
            "Epoch 655/1000\n",
            "2400/2400 [==============================] - 2s 914us/step - loss: 0.5938 - acc: 0.7829\n",
            "Epoch 656/1000\n",
            "2080/2400 [=========================>....] - ETA: 0s - loss: 0.6025 - acc: 0.7861"
          ],
          "name": "stdout"
        },
        {
          "output_type": "stream",
          "text": [
            "2400/2400 [==============================] - 2s 905us/step - loss: 0.6145 - acc: 0.7821\n",
            "Epoch 657/1000\n",
            "2400/2400 [==============================] - 2s 912us/step - loss: 0.6109 - acc: 0.7767\n",
            "Epoch 658/1000\n",
            "2400/2400 [==============================] - 2s 917us/step - loss: 0.5786 - acc: 0.7938\n",
            "Epoch 659/1000\n",
            "2400/2400 [==============================] - 2s 927us/step - loss: 0.5904 - acc: 0.7925\n",
            "Epoch 660/1000\n",
            "2400/2400 [==============================] - 2s 919us/step - loss: 0.5868 - acc: 0.7900\n",
            "Epoch 661/1000\n",
            "2400/2400 [==============================] - 2s 907us/step - loss: 0.5947 - acc: 0.7950\n",
            "Epoch 662/1000\n",
            "2080/2400 [=========================>....] - ETA: 0s - loss: 0.6059 - acc: 0.7865"
          ],
          "name": "stdout"
        },
        {
          "output_type": "stream",
          "text": [
            "2400/2400 [==============================] - 2s 912us/step - loss: 0.6080 - acc: 0.7842\n",
            "Epoch 663/1000\n",
            "2400/2400 [==============================] - 2s 914us/step - loss: 0.5879 - acc: 0.7913\n",
            "Epoch 664/1000\n",
            "2400/2400 [==============================] - 2s 916us/step - loss: 0.6010 - acc: 0.7879\n",
            "Epoch 665/1000\n",
            "2400/2400 [==============================] - 2s 910us/step - loss: 0.5838 - acc: 0.7975\n",
            "Epoch 666/1000\n",
            "2400/2400 [==============================] - 2s 914us/step - loss: 0.5770 - acc: 0.7933\n",
            "Epoch 667/1000\n",
            "2400/2400 [==============================] - 2s 917us/step - loss: 0.5849 - acc: 0.7950\n",
            "Epoch 668/1000\n",
            "2080/2400 [=========================>....] - ETA: 0s - loss: 0.5849 - acc: 0.7909"
          ],
          "name": "stdout"
        },
        {
          "output_type": "stream",
          "text": [
            "2400/2400 [==============================] - 2s 907us/step - loss: 0.5859 - acc: 0.7933\n",
            "Epoch 669/1000\n",
            "2400/2400 [==============================] - 2s 918us/step - loss: 0.5903 - acc: 0.7921\n",
            "Epoch 670/1000\n",
            "2400/2400 [==============================] - 2s 914us/step - loss: 0.5845 - acc: 0.7921\n",
            "Epoch 671/1000\n",
            "2400/2400 [==============================] - 2s 925us/step - loss: 0.5806 - acc: 0.8029\n",
            "Epoch 672/1000\n",
            "2400/2400 [==============================] - 2s 922us/step - loss: 0.5824 - acc: 0.7913\n",
            "Epoch 673/1000\n",
            "2400/2400 [==============================] - 2s 912us/step - loss: 0.5849 - acc: 0.7929\n",
            "Epoch 674/1000\n",
            "2080/2400 [=========================>....] - ETA: 0s - loss: 0.5702 - acc: 0.7933"
          ],
          "name": "stdout"
        },
        {
          "output_type": "stream",
          "text": [
            "2400/2400 [==============================] - 2s 917us/step - loss: 0.5675 - acc: 0.7992\n",
            "Epoch 675/1000\n",
            "2400/2400 [==============================] - 2s 913us/step - loss: 0.5732 - acc: 0.7946\n",
            "Epoch 676/1000\n",
            "2400/2400 [==============================] - 2s 915us/step - loss: 0.5706 - acc: 0.7987\n",
            "Epoch 677/1000\n",
            "2400/2400 [==============================] - 2s 925us/step - loss: 0.5637 - acc: 0.8104\n",
            "Epoch 678/1000\n",
            "2400/2400 [==============================] - 2s 914us/step - loss: 0.5819 - acc: 0.7975\n",
            "Epoch 679/1000\n",
            "2400/2400 [==============================] - 2s 912us/step - loss: 0.5844 - acc: 0.7925\n",
            "Epoch 680/1000\n",
            "2080/2400 [=========================>....] - ETA: 0s - loss: 0.5824 - acc: 0.7904"
          ],
          "name": "stdout"
        },
        {
          "output_type": "stream",
          "text": [
            "2400/2400 [==============================] - 2s 915us/step - loss: 0.5841 - acc: 0.7871\n",
            "Epoch 681/1000\n",
            "2400/2400 [==============================] - 2s 917us/step - loss: 0.5780 - acc: 0.7954\n",
            "Epoch 682/1000\n",
            "2400/2400 [==============================] - 2s 917us/step - loss: 0.5888 - acc: 0.7929\n",
            "Epoch 683/1000\n",
            "2400/2400 [==============================] - 2s 902us/step - loss: 0.5742 - acc: 0.7979\n",
            "Epoch 684/1000\n",
            "2400/2400 [==============================] - 2s 887us/step - loss: 0.5702 - acc: 0.7954\n",
            "Epoch 685/1000\n",
            "2400/2400 [==============================] - 2s 885us/step - loss: 0.5806 - acc: 0.7929\n",
            "Epoch 686/1000\n",
            "2080/2400 [=========================>....] - ETA: 0s - loss: 0.5796 - acc: 0.7894"
          ],
          "name": "stdout"
        },
        {
          "output_type": "stream",
          "text": [
            "2400/2400 [==============================] - 2s 890us/step - loss: 0.5852 - acc: 0.7875\n",
            "Epoch 687/1000\n",
            "2400/2400 [==============================] - 2s 910us/step - loss: 0.5781 - acc: 0.8021\n",
            "Epoch 688/1000\n",
            "2400/2400 [==============================] - 2s 924us/step - loss: 0.5789 - acc: 0.7950\n",
            "Epoch 689/1000\n",
            "2400/2400 [==============================] - 2s 904us/step - loss: 0.5624 - acc: 0.8075\n",
            "Epoch 690/1000\n",
            "2400/2400 [==============================] - 2s 912us/step - loss: 0.5732 - acc: 0.7983\n",
            "Epoch 691/1000\n",
            "2400/2400 [==============================] - 2s 902us/step - loss: 0.5829 - acc: 0.7929\n",
            "Epoch 692/1000\n",
            "2080/2400 [=========================>....] - ETA: 0s - loss: 0.5672 - acc: 0.8005"
          ],
          "name": "stdout"
        },
        {
          "output_type": "stream",
          "text": [
            "2400/2400 [==============================] - 2s 904us/step - loss: 0.5692 - acc: 0.7963\n",
            "Epoch 693/1000\n",
            "2400/2400 [==============================] - 2s 906us/step - loss: 0.5779 - acc: 0.7975\n",
            "Epoch 694/1000\n",
            "2400/2400 [==============================] - 2s 902us/step - loss: 0.5743 - acc: 0.7963\n",
            "Epoch 695/1000\n",
            "2400/2400 [==============================] - 2s 900us/step - loss: 0.5852 - acc: 0.8004\n",
            "Epoch 696/1000\n",
            "2400/2400 [==============================] - 2s 903us/step - loss: 0.5632 - acc: 0.8050\n",
            "Epoch 697/1000\n",
            "2400/2400 [==============================] - 2s 913us/step - loss: 0.5661 - acc: 0.8046\n",
            "Epoch 698/1000\n",
            "2080/2400 [=========================>....] - ETA: 0s - loss: 0.5612 - acc: 0.8014"
          ],
          "name": "stdout"
        },
        {
          "output_type": "stream",
          "text": [
            "2400/2400 [==============================] - 2s 918us/step - loss: 0.5580 - acc: 0.8033\n",
            "Epoch 699/1000\n",
            "2400/2400 [==============================] - 2s 918us/step - loss: 0.5547 - acc: 0.8042\n",
            "Epoch 700/1000\n",
            "2400/2400 [==============================] - 2s 912us/step - loss: 0.5592 - acc: 0.8063\n",
            "Epoch 701/1000\n",
            "2400/2400 [==============================] - 2s 906us/step - loss: 0.5700 - acc: 0.7979\n",
            "Epoch 702/1000\n",
            "2400/2400 [==============================] - 2s 910us/step - loss: 0.5716 - acc: 0.7958\n",
            "Epoch 703/1000\n",
            "2400/2400 [==============================] - 2s 914us/step - loss: 0.5681 - acc: 0.7967\n",
            "Epoch 704/1000\n",
            "2048/2400 [========================>.....] - ETA: 0s - loss: 0.5488 - acc: 0.8057"
          ],
          "name": "stdout"
        },
        {
          "output_type": "stream",
          "text": [
            "2400/2400 [==============================] - 2s 915us/step - loss: 0.5765 - acc: 0.7963\n",
            "Epoch 705/1000\n",
            "2400/2400 [==============================] - 2s 897us/step - loss: 0.5357 - acc: 0.8225\n",
            "Epoch 706/1000\n",
            "2400/2400 [==============================] - 2s 914us/step - loss: 0.5608 - acc: 0.8096\n",
            "Epoch 707/1000\n",
            "2400/2400 [==============================] - 2s 904us/step - loss: 0.5535 - acc: 0.8108\n",
            "Epoch 708/1000\n",
            "2400/2400 [==============================] - 2s 904us/step - loss: 0.5573 - acc: 0.8050\n",
            "Epoch 709/1000\n",
            "2400/2400 [==============================] - 2s 907us/step - loss: 0.5523 - acc: 0.8050\n",
            "Epoch 710/1000\n",
            "2080/2400 [=========================>....] - ETA: 0s - loss: 0.5778 - acc: 0.7942"
          ],
          "name": "stdout"
        },
        {
          "output_type": "stream",
          "text": [
            "2400/2400 [==============================] - 2s 905us/step - loss: 0.5736 - acc: 0.7971\n",
            "Epoch 711/1000\n",
            "2400/2400 [==============================] - 2s 902us/step - loss: 0.5491 - acc: 0.8100\n",
            "Epoch 712/1000\n",
            "2400/2400 [==============================] - 2s 897us/step - loss: 0.5508 - acc: 0.8067\n",
            "Epoch 713/1000\n",
            "2400/2400 [==============================] - 2s 895us/step - loss: 0.5699 - acc: 0.7950\n",
            "Epoch 714/1000\n",
            "2400/2400 [==============================] - 2s 890us/step - loss: 0.5384 - acc: 0.8187\n",
            "Epoch 715/1000\n",
            "2400/2400 [==============================] - 2s 899us/step - loss: 0.5651 - acc: 0.8071\n",
            "Epoch 716/1000\n",
            "2080/2400 [=========================>....] - ETA: 0s - loss: 0.5369 - acc: 0.8144"
          ],
          "name": "stdout"
        },
        {
          "output_type": "stream",
          "text": [
            "2400/2400 [==============================] - 2s 903us/step - loss: 0.5533 - acc: 0.8083\n",
            "Epoch 717/1000\n",
            "2400/2400 [==============================] - 2s 900us/step - loss: 0.5566 - acc: 0.8033\n",
            "Epoch 718/1000\n",
            "2400/2400 [==============================] - 2s 904us/step - loss: 0.5580 - acc: 0.8029\n",
            "Epoch 719/1000\n",
            "2400/2400 [==============================] - 2s 903us/step - loss: 0.5487 - acc: 0.8154\n",
            "Epoch 720/1000\n",
            "2400/2400 [==============================] - 2s 894us/step - loss: 0.5496 - acc: 0.8133\n",
            "Epoch 721/1000\n",
            "2400/2400 [==============================] - 2s 897us/step - loss: 0.5468 - acc: 0.8162\n",
            "Epoch 722/1000\n",
            "2080/2400 [=========================>....] - ETA: 0s - loss: 0.5708 - acc: 0.7976"
          ],
          "name": "stdout"
        },
        {
          "output_type": "stream",
          "text": [
            "2400/2400 [==============================] - 2s 914us/step - loss: 0.5586 - acc: 0.8025\n",
            "Epoch 723/1000\n",
            "2400/2400 [==============================] - 2s 902us/step - loss: 0.5441 - acc: 0.8121\n",
            "Epoch 724/1000\n",
            "2400/2400 [==============================] - 2s 899us/step - loss: 0.5438 - acc: 0.8117\n",
            "Epoch 725/1000\n",
            "2400/2400 [==============================] - 2s 895us/step - loss: 0.5401 - acc: 0.8150\n",
            "Epoch 726/1000\n",
            "2400/2400 [==============================] - 2s 897us/step - loss: 0.5439 - acc: 0.8129\n",
            "Epoch 727/1000\n",
            "2400/2400 [==============================] - 2s 905us/step - loss: 0.5539 - acc: 0.8071\n",
            "Epoch 728/1000\n",
            "2080/2400 [=========================>....] - ETA: 0s - loss: 0.5458 - acc: 0.8053"
          ],
          "name": "stdout"
        },
        {
          "output_type": "stream",
          "text": [
            "2400/2400 [==============================] - 2s 902us/step - loss: 0.5420 - acc: 0.8108\n",
            "Epoch 729/1000\n",
            "2400/2400 [==============================] - 2s 899us/step - loss: 0.5484 - acc: 0.8117\n",
            "Epoch 730/1000\n",
            "2400/2400 [==============================] - 2s 898us/step - loss: 0.5461 - acc: 0.8046\n",
            "Epoch 731/1000\n",
            "2400/2400 [==============================] - 2s 890us/step - loss: 0.5412 - acc: 0.8067\n",
            "Epoch 732/1000\n",
            "2400/2400 [==============================] - 2s 902us/step - loss: 0.5655 - acc: 0.8033\n",
            "Epoch 733/1000\n",
            "2400/2400 [==============================] - 2s 901us/step - loss: 0.5301 - acc: 0.8192\n",
            "Epoch 734/1000\n",
            "2144/2400 [=========================>....] - ETA: 0s - loss: 0.5513 - acc: 0.8097"
          ],
          "name": "stdout"
        },
        {
          "output_type": "stream",
          "text": [
            "2400/2400 [==============================] - 2s 895us/step - loss: 0.5595 - acc: 0.8046\n",
            "Epoch 735/1000\n",
            "2400/2400 [==============================] - 2s 898us/step - loss: 0.5333 - acc: 0.8175\n",
            "Epoch 736/1000\n",
            "2400/2400 [==============================] - 2s 896us/step - loss: 0.5459 - acc: 0.8075\n",
            "Epoch 737/1000\n",
            "2400/2400 [==============================] - 2s 894us/step - loss: 0.5488 - acc: 0.8137\n",
            "Epoch 738/1000\n",
            "2400/2400 [==============================] - 2s 895us/step - loss: 0.5499 - acc: 0.8083\n",
            "Epoch 739/1000\n",
            "2400/2400 [==============================] - 2s 904us/step - loss: 0.5458 - acc: 0.8137\n",
            "Epoch 740/1000\n",
            "2016/2400 [========================>.....] - ETA: 0s - loss: 0.5172 - acc: 0.8175"
          ],
          "name": "stdout"
        },
        {
          "output_type": "stream",
          "text": [
            "2400/2400 [==============================] - 2s 915us/step - loss: 0.5249 - acc: 0.8142\n",
            "Epoch 741/1000\n",
            "2400/2400 [==============================] - 2s 911us/step - loss: 0.5337 - acc: 0.8175\n",
            "Epoch 742/1000\n",
            "2400/2400 [==============================] - 2s 913us/step - loss: 0.5185 - acc: 0.8279\n",
            "Epoch 743/1000\n",
            "2400/2400 [==============================] - 2s 917us/step - loss: 0.5438 - acc: 0.8071\n",
            "Epoch 744/1000\n",
            "2400/2400 [==============================] - 2s 903us/step - loss: 0.5365 - acc: 0.8158\n",
            "Epoch 745/1000\n",
            "2400/2400 [==============================] - 2s 913us/step - loss: 0.5299 - acc: 0.8108\n",
            "Epoch 746/1000\n",
            "2080/2400 [=========================>....] - ETA: 0s - loss: 0.5377 - acc: 0.8183"
          ],
          "name": "stdout"
        },
        {
          "output_type": "stream",
          "text": [
            "2400/2400 [==============================] - 2s 926us/step - loss: 0.5409 - acc: 0.8129\n",
            "Epoch 747/1000\n",
            "2400/2400 [==============================] - 2s 916us/step - loss: 0.5394 - acc: 0.8158\n",
            "Epoch 748/1000\n",
            "2400/2400 [==============================] - 2s 913us/step - loss: 0.5404 - acc: 0.8142\n",
            "Epoch 749/1000\n",
            "2400/2400 [==============================] - 2s 908us/step - loss: 0.5406 - acc: 0.8092\n",
            "Epoch 750/1000\n",
            "2400/2400 [==============================] - 2s 919us/step - loss: 0.5227 - acc: 0.8217\n",
            "Epoch 751/1000\n",
            "2400/2400 [==============================] - 2s 910us/step - loss: 0.5233 - acc: 0.8254\n",
            "Epoch 752/1000\n",
            "2080/2400 [=========================>....] - ETA: 0s - loss: 0.5292 - acc: 0.8183"
          ],
          "name": "stdout"
        },
        {
          "output_type": "stream",
          "text": [
            "2400/2400 [==============================] - 2s 908us/step - loss: 0.5232 - acc: 0.8217\n",
            "Epoch 753/1000\n",
            "2400/2400 [==============================] - 2s 921us/step - loss: 0.5368 - acc: 0.8171\n",
            "Epoch 754/1000\n",
            "2400/2400 [==============================] - 2s 921us/step - loss: 0.5238 - acc: 0.8258\n",
            "Epoch 755/1000\n",
            "2400/2400 [==============================] - 2s 927us/step - loss: 0.5374 - acc: 0.8108\n",
            "Epoch 756/1000\n",
            "2400/2400 [==============================] - 2s 918us/step - loss: 0.5121 - acc: 0.8308\n",
            "Epoch 757/1000\n",
            "2400/2400 [==============================] - 2s 898us/step - loss: 0.5168 - acc: 0.8300\n",
            "Epoch 758/1000\n",
            "2080/2400 [=========================>....] - ETA: 0s - loss: 0.5160 - acc: 0.8279"
          ],
          "name": "stdout"
        },
        {
          "output_type": "stream",
          "text": [
            "2400/2400 [==============================] - 2s 910us/step - loss: 0.5297 - acc: 0.8225\n",
            "Epoch 759/1000\n",
            "2400/2400 [==============================] - 2s 915us/step - loss: 0.5327 - acc: 0.8171\n",
            "Epoch 760/1000\n",
            "2400/2400 [==============================] - 2s 896us/step - loss: 0.5297 - acc: 0.8187\n",
            "Epoch 761/1000\n",
            "2400/2400 [==============================] - 2s 901us/step - loss: 0.5213 - acc: 0.8221\n",
            "Epoch 762/1000\n",
            "2400/2400 [==============================] - 2s 915us/step - loss: 0.5364 - acc: 0.8142\n",
            "Epoch 763/1000\n",
            "2400/2400 [==============================] - 2s 909us/step - loss: 0.5184 - acc: 0.8287\n",
            "Epoch 764/1000\n",
            "2080/2400 [=========================>....] - ETA: 0s - loss: 0.5223 - acc: 0.8178"
          ],
          "name": "stdout"
        },
        {
          "output_type": "stream",
          "text": [
            "2400/2400 [==============================] - 2s 906us/step - loss: 0.5141 - acc: 0.8242\n",
            "Epoch 765/1000\n",
            "2400/2400 [==============================] - 2s 912us/step - loss: 0.5318 - acc: 0.8150\n",
            "Epoch 766/1000\n",
            "2400/2400 [==============================] - 2s 900us/step - loss: 0.5263 - acc: 0.8183\n",
            "Epoch 767/1000\n",
            "2400/2400 [==============================] - 2s 896us/step - loss: 0.5181 - acc: 0.8221\n",
            "Epoch 768/1000\n",
            "2400/2400 [==============================] - 2s 893us/step - loss: 0.5184 - acc: 0.8196\n",
            "Epoch 769/1000\n",
            "2400/2400 [==============================] - 2s 914us/step - loss: 0.5211 - acc: 0.8242\n",
            "Epoch 770/1000\n",
            "2080/2400 [=========================>....] - ETA: 0s - loss: 0.5268 - acc: 0.8226"
          ],
          "name": "stdout"
        },
        {
          "output_type": "stream",
          "text": [
            "2400/2400 [==============================] - 2s 907us/step - loss: 0.5181 - acc: 0.8275\n",
            "Epoch 771/1000\n",
            "2400/2400 [==============================] - 2s 908us/step - loss: 0.5225 - acc: 0.8200\n",
            "Epoch 772/1000\n",
            "2400/2400 [==============================] - 2s 895us/step - loss: 0.5117 - acc: 0.8221\n",
            "Epoch 773/1000\n",
            "2400/2400 [==============================] - 2s 907us/step - loss: 0.5401 - acc: 0.8229\n",
            "Epoch 774/1000\n",
            "2400/2400 [==============================] - 2s 887us/step - loss: 0.5090 - acc: 0.8287\n",
            "Epoch 775/1000\n",
            "2400/2400 [==============================] - 2s 906us/step - loss: 0.5150 - acc: 0.8258\n",
            "Epoch 776/1000\n",
            "2080/2400 [=========================>....] - ETA: 0s - loss: 0.5317 - acc: 0.8192"
          ],
          "name": "stdout"
        },
        {
          "output_type": "stream",
          "text": [
            "2400/2400 [==============================] - 2s 901us/step - loss: 0.5248 - acc: 0.8204\n",
            "Epoch 777/1000\n",
            "2400/2400 [==============================] - 2s 905us/step - loss: 0.5096 - acc: 0.8287\n",
            "Epoch 778/1000\n",
            "2400/2400 [==============================] - 2s 908us/step - loss: 0.5177 - acc: 0.8237\n",
            "Epoch 779/1000\n",
            "2400/2400 [==============================] - 2s 897us/step - loss: 0.5006 - acc: 0.8325\n",
            "Epoch 780/1000\n",
            "2400/2400 [==============================] - 2s 897us/step - loss: 0.5232 - acc: 0.8221\n",
            "Epoch 781/1000\n",
            "2400/2400 [==============================] - 2s 904us/step - loss: 0.5199 - acc: 0.8229\n",
            "Epoch 782/1000\n",
            "1952/2400 [=======================>......] - ETA: 0s - loss: 0.5045 - acc: 0.8350"
          ],
          "name": "stdout"
        },
        {
          "output_type": "stream",
          "text": [
            "2400/2400 [==============================] - 2s 900us/step - loss: 0.4978 - acc: 0.8337\n",
            "Epoch 783/1000\n",
            "2400/2400 [==============================] - 2s 921us/step - loss: 0.5088 - acc: 0.8279\n",
            "Epoch 784/1000\n",
            "2400/2400 [==============================] - 2s 893us/step - loss: 0.5134 - acc: 0.8229\n",
            "Epoch 785/1000\n",
            "2400/2400 [==============================] - 2s 906us/step - loss: 0.5016 - acc: 0.8267\n",
            "Epoch 786/1000\n",
            "2400/2400 [==============================] - 2s 899us/step - loss: 0.5121 - acc: 0.8263\n",
            "Epoch 787/1000\n",
            "2400/2400 [==============================] - 2s 895us/step - loss: 0.5122 - acc: 0.8254\n",
            "Epoch 788/1000\n",
            "2080/2400 [=========================>....] - ETA: 0s - loss: 0.5020 - acc: 0.8370"
          ],
          "name": "stdout"
        },
        {
          "output_type": "stream",
          "text": [
            "2400/2400 [==============================] - 2s 898us/step - loss: 0.5022 - acc: 0.8367\n",
            "Epoch 789/1000\n",
            "2400/2400 [==============================] - 2s 893us/step - loss: 0.5150 - acc: 0.8287\n",
            "Epoch 790/1000\n",
            "2400/2400 [==============================] - 2s 896us/step - loss: 0.5112 - acc: 0.8300\n",
            "Epoch 791/1000\n",
            "2400/2400 [==============================] - 2s 898us/step - loss: 0.4951 - acc: 0.8358\n",
            "Epoch 792/1000\n",
            "2400/2400 [==============================] - 2s 910us/step - loss: 0.5008 - acc: 0.8350\n",
            "Epoch 793/1000\n",
            "2400/2400 [==============================] - 2s 914us/step - loss: 0.4989 - acc: 0.8308\n",
            "Epoch 794/1000\n",
            "2016/2400 [========================>.....] - ETA: 0s - loss: 0.5129 - acc: 0.8244"
          ],
          "name": "stdout"
        },
        {
          "output_type": "stream",
          "text": [
            "2400/2400 [==============================] - 2s 914us/step - loss: 0.5118 - acc: 0.8258\n",
            "Epoch 795/1000\n",
            "2400/2400 [==============================] - 2s 904us/step - loss: 0.5041 - acc: 0.8346\n",
            "Epoch 796/1000\n",
            "2400/2400 [==============================] - 2s 910us/step - loss: 0.5114 - acc: 0.8287\n",
            "Epoch 797/1000\n",
            "2400/2400 [==============================] - 2s 905us/step - loss: 0.4925 - acc: 0.8375\n",
            "Epoch 798/1000\n",
            "2400/2400 [==============================] - 2s 892us/step - loss: 0.5136 - acc: 0.8263\n",
            "Epoch 799/1000\n",
            "2400/2400 [==============================] - 2s 911us/step - loss: 0.4959 - acc: 0.8363\n",
            "Epoch 800/1000\n",
            "2080/2400 [=========================>....] - ETA: 0s - loss: 0.5006 - acc: 0.8389"
          ],
          "name": "stdout"
        },
        {
          "output_type": "stream",
          "text": [
            "2400/2400 [==============================] - 2s 910us/step - loss: 0.4969 - acc: 0.8417\n",
            "Epoch 801/1000\n",
            "2400/2400 [==============================] - 2s 910us/step - loss: 0.5062 - acc: 0.8263\n",
            "Epoch 802/1000\n",
            "2400/2400 [==============================] - 2s 897us/step - loss: 0.4920 - acc: 0.8379\n",
            "Epoch 803/1000\n",
            "2400/2400 [==============================] - 2s 904us/step - loss: 0.5030 - acc: 0.8279\n",
            "Epoch 804/1000\n",
            "2400/2400 [==============================] - 2s 898us/step - loss: 0.4924 - acc: 0.8354\n",
            "Epoch 805/1000\n",
            "2400/2400 [==============================] - 2s 888us/step - loss: 0.5207 - acc: 0.8196\n",
            "Epoch 806/1000\n",
            "2144/2400 [=========================>....] - ETA: 0s - loss: 0.4853 - acc: 0.8354"
          ],
          "name": "stdout"
        },
        {
          "output_type": "stream",
          "text": [
            "2400/2400 [==============================] - 2s 912us/step - loss: 0.4903 - acc: 0.8337\n",
            "Epoch 807/1000\n",
            "2400/2400 [==============================] - 2s 893us/step - loss: 0.5098 - acc: 0.8296\n",
            "Epoch 808/1000\n",
            "2400/2400 [==============================] - 2s 900us/step - loss: 0.5003 - acc: 0.8317\n",
            "Epoch 809/1000\n",
            "2400/2400 [==============================] - 2s 907us/step - loss: 0.4934 - acc: 0.8417\n",
            "Epoch 810/1000\n",
            "2400/2400 [==============================] - 2s 899us/step - loss: 0.5037 - acc: 0.8279\n",
            "Epoch 811/1000\n",
            "2400/2400 [==============================] - 2s 913us/step - loss: 0.4890 - acc: 0.8387\n",
            "Epoch 812/1000\n",
            "2080/2400 [=========================>....] - ETA: 0s - loss: 0.5088 - acc: 0.8327"
          ],
          "name": "stdout"
        },
        {
          "output_type": "stream",
          "text": [
            "2400/2400 [==============================] - 2s 902us/step - loss: 0.5099 - acc: 0.8321\n",
            "Epoch 813/1000\n",
            "2400/2400 [==============================] - 2s 900us/step - loss: 0.5052 - acc: 0.8308\n",
            "Epoch 814/1000\n",
            "2400/2400 [==============================] - 2s 895us/step - loss: 0.4940 - acc: 0.8363\n",
            "Epoch 815/1000\n",
            "2400/2400 [==============================] - 2s 919us/step - loss: 0.4965 - acc: 0.8375\n",
            "Epoch 816/1000\n",
            "2400/2400 [==============================] - 2s 898us/step - loss: 0.4917 - acc: 0.8417\n",
            "Epoch 817/1000\n",
            "2400/2400 [==============================] - 2s 891us/step - loss: 0.4873 - acc: 0.8367\n",
            "Epoch 818/1000\n",
            "2080/2400 [=========================>....] - ETA: 0s - loss: 0.4903 - acc: 0.8370"
          ],
          "name": "stdout"
        },
        {
          "output_type": "stream",
          "text": [
            "2400/2400 [==============================] - 2s 896us/step - loss: 0.4991 - acc: 0.8363\n",
            "Epoch 819/1000\n",
            "2400/2400 [==============================] - 2s 895us/step - loss: 0.4963 - acc: 0.8363\n",
            "Epoch 820/1000\n",
            "2400/2400 [==============================] - 2s 889us/step - loss: 0.4962 - acc: 0.8358\n",
            "Epoch 821/1000\n",
            "2400/2400 [==============================] - 2s 883us/step - loss: 0.4925 - acc: 0.8387\n",
            "Epoch 822/1000\n",
            "2400/2400 [==============================] - 2s 868us/step - loss: 0.4874 - acc: 0.8387\n",
            "Epoch 823/1000\n",
            "2400/2400 [==============================] - 2s 870us/step - loss: 0.4990 - acc: 0.8275\n",
            "Epoch 824/1000\n",
            "2080/2400 [=========================>....] - ETA: 0s - loss: 0.4772 - acc: 0.8409"
          ],
          "name": "stdout"
        },
        {
          "output_type": "stream",
          "text": [
            "2400/2400 [==============================] - 2s 873us/step - loss: 0.4878 - acc: 0.8379\n",
            "Epoch 825/1000\n",
            "2400/2400 [==============================] - 2s 875us/step - loss: 0.4977 - acc: 0.8371\n",
            "Epoch 826/1000\n",
            "2400/2400 [==============================] - 2s 877us/step - loss: 0.4783 - acc: 0.8421\n",
            "Epoch 827/1000\n",
            "2400/2400 [==============================] - 2s 889us/step - loss: 0.4740 - acc: 0.8442\n",
            "Epoch 828/1000\n",
            "2400/2400 [==============================] - 2s 875us/step - loss: 0.4931 - acc: 0.8325\n",
            "Epoch 829/1000\n",
            "2400/2400 [==============================] - 2s 885us/step - loss: 0.4926 - acc: 0.8329\n",
            "Epoch 830/1000\n",
            "2144/2400 [=========================>....] - ETA: 0s - loss: 0.5036 - acc: 0.8321"
          ],
          "name": "stdout"
        },
        {
          "output_type": "stream",
          "text": [
            "2400/2400 [==============================] - 2s 889us/step - loss: 0.5031 - acc: 0.8342\n",
            "Epoch 831/1000\n",
            "2400/2400 [==============================] - 2s 884us/step - loss: 0.4878 - acc: 0.8379\n",
            "Epoch 832/1000\n",
            "2400/2400 [==============================] - 2s 883us/step - loss: 0.4817 - acc: 0.8475\n",
            "Epoch 833/1000\n",
            "2400/2400 [==============================] - 2s 884us/step - loss: 0.4747 - acc: 0.8483\n",
            "Epoch 834/1000\n",
            "2400/2400 [==============================] - 2s 893us/step - loss: 0.4946 - acc: 0.8375\n",
            "Epoch 835/1000\n",
            "2400/2400 [==============================] - 2s 896us/step - loss: 0.4755 - acc: 0.8508\n",
            "Epoch 836/1000\n",
            "2144/2400 [=========================>....] - ETA: 0s - loss: 0.5001 - acc: 0.8386"
          ],
          "name": "stdout"
        },
        {
          "output_type": "stream",
          "text": [
            "2400/2400 [==============================] - 2s 893us/step - loss: 0.4909 - acc: 0.8425\n",
            "Epoch 837/1000\n",
            "2400/2400 [==============================] - 2s 895us/step - loss: 0.4871 - acc: 0.8350\n",
            "Epoch 838/1000\n",
            "2400/2400 [==============================] - 2s 883us/step - loss: 0.4897 - acc: 0.8350\n",
            "Epoch 839/1000\n",
            "2400/2400 [==============================] - 2s 893us/step - loss: 0.4796 - acc: 0.8417\n",
            "Epoch 840/1000\n",
            "2400/2400 [==============================] - 2s 898us/step - loss: 0.4805 - acc: 0.8396\n",
            "Epoch 841/1000\n",
            "2400/2400 [==============================] - 2s 882us/step - loss: 0.5015 - acc: 0.8408\n",
            "Epoch 842/1000\n",
            "2144/2400 [=========================>....] - ETA: 0s - loss: 0.4807 - acc: 0.8358"
          ],
          "name": "stdout"
        },
        {
          "output_type": "stream",
          "text": [
            "2400/2400 [==============================] - 2s 884us/step - loss: 0.4873 - acc: 0.8337\n",
            "Epoch 843/1000\n",
            "2400/2400 [==============================] - 2s 882us/step - loss: 0.4771 - acc: 0.8421\n",
            "Epoch 844/1000\n",
            "2400/2400 [==============================] - 2s 886us/step - loss: 0.4833 - acc: 0.8337\n",
            "Epoch 845/1000\n",
            "2400/2400 [==============================] - 2s 890us/step - loss: 0.4822 - acc: 0.8375\n",
            "Epoch 846/1000\n",
            "2400/2400 [==============================] - 2s 889us/step - loss: 0.4960 - acc: 0.8425\n",
            "Epoch 847/1000\n",
            "2400/2400 [==============================] - 2s 883us/step - loss: 0.4790 - acc: 0.8467\n",
            "Epoch 848/1000\n",
            "2144/2400 [=========================>....] - ETA: 0s - loss: 0.4670 - acc: 0.8493"
          ],
          "name": "stdout"
        },
        {
          "output_type": "stream",
          "text": [
            "2400/2400 [==============================] - 2s 889us/step - loss: 0.4812 - acc: 0.8454\n",
            "Epoch 849/1000\n",
            "2400/2400 [==============================] - 2s 895us/step - loss: 0.4701 - acc: 0.8458\n",
            "Epoch 850/1000\n",
            "2400/2400 [==============================] - 2s 881us/step - loss: 0.4683 - acc: 0.8487\n",
            "Epoch 851/1000\n",
            "2400/2400 [==============================] - 2s 889us/step - loss: 0.5065 - acc: 0.8358\n",
            "Epoch 852/1000\n",
            "2400/2400 [==============================] - 2s 880us/step - loss: 0.4840 - acc: 0.8337\n",
            "Epoch 853/1000\n",
            "2400/2400 [==============================] - 2s 881us/step - loss: 0.4792 - acc: 0.8454\n",
            "Epoch 854/1000\n",
            "2272/2400 [===========================>..] - ETA: 0s - loss: 0.4731 - acc: 0.8438"
          ],
          "name": "stdout"
        },
        {
          "output_type": "stream",
          "text": [
            "2400/2400 [==============================] - 2s 889us/step - loss: 0.4695 - acc: 0.8462\n",
            "Epoch 855/1000\n",
            "2400/2400 [==============================] - 2s 865us/step - loss: 0.4742 - acc: 0.8404\n",
            "Epoch 856/1000\n",
            "2400/2400 [==============================] - 2s 872us/step - loss: 0.4895 - acc: 0.8408\n",
            "Epoch 857/1000\n",
            "2400/2400 [==============================] - 2s 868us/step - loss: 0.4747 - acc: 0.8396\n",
            "Epoch 858/1000\n",
            "2400/2400 [==============================] - 2s 862us/step - loss: 0.4654 - acc: 0.8487\n",
            "Epoch 859/1000\n",
            "2400/2400 [==============================] - 2s 864us/step - loss: 0.4643 - acc: 0.8475\n",
            "Epoch 860/1000\n",
            "2272/2400 [===========================>..] - ETA: 0s - loss: 0.4852 - acc: 0.8424"
          ],
          "name": "stdout"
        },
        {
          "output_type": "stream",
          "text": [
            "2400/2400 [==============================] - 2s 867us/step - loss: 0.4779 - acc: 0.8442\n",
            "Epoch 861/1000\n",
            "2400/2400 [==============================] - 2s 858us/step - loss: 0.4644 - acc: 0.8529\n",
            "Epoch 862/1000\n",
            "2400/2400 [==============================] - 2s 858us/step - loss: 0.4565 - acc: 0.8533\n",
            "Epoch 863/1000\n",
            "2400/2400 [==============================] - 2s 864us/step - loss: 0.4879 - acc: 0.8421\n",
            "Epoch 864/1000\n",
            "2400/2400 [==============================] - 2s 856us/step - loss: 0.4746 - acc: 0.8454\n",
            "Epoch 865/1000\n",
            "2400/2400 [==============================] - 2s 867us/step - loss: 0.4761 - acc: 0.8446\n",
            "Epoch 866/1000\n",
            "2208/2400 [==========================>...] - ETA: 0s - loss: 0.4628 - acc: 0.8442"
          ],
          "name": "stdout"
        },
        {
          "output_type": "stream",
          "text": [
            "2400/2400 [==============================] - 2s 869us/step - loss: 0.4629 - acc: 0.8467\n",
            "Epoch 867/1000\n",
            "2400/2400 [==============================] - 2s 881us/step - loss: 0.4583 - acc: 0.8563\n",
            "Epoch 868/1000\n",
            "2400/2400 [==============================] - 2s 867us/step - loss: 0.4591 - acc: 0.8542\n",
            "Epoch 869/1000\n",
            "2400/2400 [==============================] - 2s 881us/step - loss: 0.4864 - acc: 0.8358\n",
            "Epoch 870/1000\n",
            "2400/2400 [==============================] - 2s 863us/step - loss: 0.4542 - acc: 0.8546\n",
            "Epoch 871/1000\n",
            "2400/2400 [==============================] - 2s 878us/step - loss: 0.4696 - acc: 0.8433\n",
            "Epoch 872/1000\n",
            "2144/2400 [=========================>....] - ETA: 0s - loss: 0.4535 - acc: 0.8587"
          ],
          "name": "stdout"
        },
        {
          "output_type": "stream",
          "text": [
            "2400/2400 [==============================] - 2s 868us/step - loss: 0.4593 - acc: 0.8575\n",
            "Epoch 873/1000\n",
            "2400/2400 [==============================] - 2s 858us/step - loss: 0.4771 - acc: 0.8442\n",
            "Epoch 874/1000\n",
            "2400/2400 [==============================] - 2s 851us/step - loss: 0.4698 - acc: 0.8454\n",
            "Epoch 875/1000\n",
            "2400/2400 [==============================] - 2s 853us/step - loss: 0.4794 - acc: 0.8429\n",
            "Epoch 876/1000\n",
            "2400/2400 [==============================] - 2s 845us/step - loss: 0.4790 - acc: 0.8417\n",
            "Epoch 877/1000\n",
            "2400/2400 [==============================] - 2s 849us/step - loss: 0.4524 - acc: 0.8538\n",
            "Epoch 878/1000\n",
            "2336/2400 [============================>.] - ETA: 0s - loss: 0.4604 - acc: 0.8502"
          ],
          "name": "stdout"
        },
        {
          "output_type": "stream",
          "text": [
            "\b\b\b\b\b\b\b\b\b\b\b\b\b\b\b\b\b\b\b\b\b\b\b\b\b\b\b\b\b\b\b\b\b\b\b\b\b\b\b\b\b\b\b\b\b\b\b\b\b\b\b\b\b\b\b\b\b\b\b\b\b\b\b\b\b\b\b\b\b\b\b\b\b\b\b\b\b\b\b\b\b\r2400/2400 [==============================] - 2s 821us/step - loss: 0.4557 - acc: 0.8517\n",
            "Epoch 879/1000\n",
            "2400/2400 [==============================] - 2s 792us/step - loss: 0.4799 - acc: 0.8454\n",
            "Epoch 880/1000\n",
            "2400/2400 [==============================] - 2s 784us/step - loss: 0.4635 - acc: 0.8542\n",
            "Epoch 881/1000\n",
            "2400/2400 [==============================] - 2s 772us/step - loss: 0.4793 - acc: 0.8442\n",
            "Epoch 882/1000\n",
            "2400/2400 [==============================] - 2s 785us/step - loss: 0.4696 - acc: 0.8417\n",
            "Epoch 883/1000\n",
            "2400/2400 [==============================] - 2s 768us/step - loss: 0.4522 - acc: 0.8588\n",
            "Epoch 884/1000\n",
            "2336/2400 [============================>.] - ETA: 0s - loss: 0.4787 - acc: 0.8467"
          ],
          "name": "stdout"
        },
        {
          "output_type": "stream",
          "text": [
            "2400/2400 [==============================] - 2s 770us/step - loss: 0.4751 - acc: 0.8487\n",
            "Epoch 885/1000\n",
            "2400/2400 [==============================] - 2s 779us/step - loss: 0.4748 - acc: 0.8525\n",
            "Epoch 886/1000\n",
            "2400/2400 [==============================] - 2s 797us/step - loss: 0.4637 - acc: 0.8462\n",
            "Epoch 887/1000\n",
            "2400/2400 [==============================] - 2s 797us/step - loss: 0.4658 - acc: 0.8521\n",
            "Epoch 888/1000\n",
            "2400/2400 [==============================] - 2s 803us/step - loss: 0.4736 - acc: 0.8433\n",
            "Epoch 889/1000\n",
            "2400/2400 [==============================] - 2s 810us/step - loss: 0.4509 - acc: 0.8550\n",
            "Epoch 890/1000\n",
            "2400/2400 [==============================] - 2s 827us/step - loss: 0.4879 - acc: 0.8421\n",
            "Epoch 891/1000\n",
            " 352/2400 [===>..........................] - ETA: 1s - loss: 0.4225 - acc: 0.8523"
          ],
          "name": "stdout"
        },
        {
          "output_type": "stream",
          "text": [
            "2400/2400 [==============================] - 2s 832us/step - loss: 0.4484 - acc: 0.8592\n",
            "Epoch 892/1000\n",
            "2400/2400 [==============================] - 2s 832us/step - loss: 0.4550 - acc: 0.8571\n",
            "Epoch 893/1000\n",
            "2400/2400 [==============================] - 2s 840us/step - loss: 0.4744 - acc: 0.8429\n",
            "Epoch 894/1000\n",
            "2400/2400 [==============================] - 2s 831us/step - loss: 0.4583 - acc: 0.8542\n",
            "Epoch 895/1000\n",
            "2400/2400 [==============================] - 2s 832us/step - loss: 0.4515 - acc: 0.8571\n",
            "Epoch 896/1000\n",
            "2400/2400 [==============================] - 2s 829us/step - loss: 0.4715 - acc: 0.8550\n",
            "Epoch 897/1000\n",
            "2080/2400 [=========================>....] - ETA: 0s - loss: 0.4394 - acc: 0.8635"
          ],
          "name": "stdout"
        },
        {
          "output_type": "stream",
          "text": [
            "2400/2400 [==============================] - 2s 826us/step - loss: 0.4345 - acc: 0.8667\n",
            "Epoch 898/1000\n",
            "2400/2400 [==============================] - 2s 840us/step - loss: 0.4665 - acc: 0.8467\n",
            "Epoch 899/1000\n",
            "2400/2400 [==============================] - 2s 831us/step - loss: 0.4684 - acc: 0.8429\n",
            "Epoch 900/1000\n",
            "2400/2400 [==============================] - 2s 842us/step - loss: 0.4531 - acc: 0.8542\n",
            "Epoch 901/1000\n",
            "2400/2400 [==============================] - 2s 832us/step - loss: 0.4493 - acc: 0.8525\n",
            "Epoch 902/1000\n",
            "2400/2400 [==============================] - 2s 833us/step - loss: 0.4689 - acc: 0.8496\n",
            "Epoch 903/1000\n",
            "2208/2400 [==========================>...] - ETA: 0s - loss: 0.4689 - acc: 0.8492"
          ],
          "name": "stdout"
        },
        {
          "output_type": "stream",
          "text": [
            "2400/2400 [==============================] - 2s 824us/step - loss: 0.4722 - acc: 0.8483\n",
            "Epoch 904/1000\n",
            "2400/2400 [==============================] - 2s 814us/step - loss: 0.4621 - acc: 0.8508\n",
            "Epoch 905/1000\n",
            "2400/2400 [==============================] - 2s 818us/step - loss: 0.4541 - acc: 0.8500\n",
            "Epoch 906/1000\n",
            "2400/2400 [==============================] - 2s 820us/step - loss: 0.4436 - acc: 0.8588\n",
            "Epoch 907/1000\n",
            "2400/2400 [==============================] - 2s 820us/step - loss: 0.4493 - acc: 0.8563\n",
            "Epoch 908/1000\n",
            "2400/2400 [==============================] - 2s 831us/step - loss: 0.4552 - acc: 0.8621\n",
            "Epoch 909/1000\n",
            "2272/2400 [===========================>..] - ETA: 0s - loss: 0.4611 - acc: 0.8543"
          ],
          "name": "stdout"
        },
        {
          "output_type": "stream",
          "text": [
            "2400/2400 [==============================] - 2s 834us/step - loss: 0.4543 - acc: 0.8567\n",
            "Epoch 910/1000\n",
            "2400/2400 [==============================] - 2s 820us/step - loss: 0.4391 - acc: 0.8596\n",
            "Epoch 911/1000\n",
            "2400/2400 [==============================] - 2s 821us/step - loss: 0.4292 - acc: 0.8654\n",
            "Epoch 912/1000\n",
            "2400/2400 [==============================] - 2s 821us/step - loss: 0.4446 - acc: 0.8579\n",
            "Epoch 913/1000\n",
            "2400/2400 [==============================] - 2s 822us/step - loss: 0.4566 - acc: 0.8517\n",
            "Epoch 914/1000\n",
            "2400/2400 [==============================] - 2s 819us/step - loss: 0.4485 - acc: 0.8583\n",
            "Epoch 915/1000\n",
            "2272/2400 [===========================>..] - ETA: 0s - loss: 0.4463 - acc: 0.8583"
          ],
          "name": "stdout"
        },
        {
          "output_type": "stream",
          "text": [
            "2400/2400 [==============================] - 2s 822us/step - loss: 0.4473 - acc: 0.8596\n",
            "Epoch 916/1000\n",
            "2400/2400 [==============================] - 2s 822us/step - loss: 0.4477 - acc: 0.8571\n",
            "Epoch 917/1000\n",
            "2400/2400 [==============================] - 2s 841us/step - loss: 0.4466 - acc: 0.8542\n",
            "Epoch 918/1000\n",
            "2400/2400 [==============================] - 2s 824us/step - loss: 0.4521 - acc: 0.8588\n",
            "Epoch 919/1000\n",
            "2400/2400 [==============================] - 2s 827us/step - loss: 0.4529 - acc: 0.8571\n",
            "Epoch 920/1000\n",
            "2400/2400 [==============================] - 2s 830us/step - loss: 0.4489 - acc: 0.8550\n",
            "Epoch 921/1000\n",
            "2272/2400 [===========================>..] - ETA: 0s - loss: 0.4339 - acc: 0.8618"
          ],
          "name": "stdout"
        },
        {
          "output_type": "stream",
          "text": [
            "2400/2400 [==============================] - 2s 837us/step - loss: 0.4448 - acc: 0.8592\n",
            "Epoch 922/1000\n",
            "2400/2400 [==============================] - 2s 833us/step - loss: 0.4507 - acc: 0.8575\n",
            "Epoch 923/1000\n",
            "2400/2400 [==============================] - 2s 832us/step - loss: 0.4463 - acc: 0.8588\n",
            "Epoch 924/1000\n",
            "2400/2400 [==============================] - 2s 851us/step - loss: 0.4708 - acc: 0.8571\n",
            "Epoch 925/1000\n",
            "2400/2400 [==============================] - 2s 841us/step - loss: 0.4448 - acc: 0.8554\n",
            "Epoch 926/1000\n",
            "2400/2400 [==============================] - 2s 843us/step - loss: 0.4657 - acc: 0.8563\n",
            "Epoch 927/1000\n",
            "2272/2400 [===========================>..] - ETA: 0s - loss: 0.4370 - acc: 0.8570"
          ],
          "name": "stdout"
        },
        {
          "output_type": "stream",
          "text": [
            "2400/2400 [==============================] - 2s 844us/step - loss: 0.4353 - acc: 0.8579\n",
            "Epoch 928/1000\n",
            "2400/2400 [==============================] - 2s 824us/step - loss: 0.4384 - acc: 0.8646\n",
            "Epoch 929/1000\n",
            "2400/2400 [==============================] - 2s 832us/step - loss: 0.4413 - acc: 0.8621\n",
            "Epoch 930/1000\n",
            "2400/2400 [==============================] - 2s 849us/step - loss: 0.4298 - acc: 0.8671\n",
            "Epoch 931/1000\n",
            "2400/2400 [==============================] - 2s 838us/step - loss: 0.4559 - acc: 0.8550\n",
            "Epoch 932/1000\n",
            "2400/2400 [==============================] - 2s 826us/step - loss: 0.4337 - acc: 0.8642\n",
            "Epoch 933/1000\n",
            "2400/2400 [==============================] - 2s 799us/step - loss: 0.4650 - acc: 0.8571\n",
            "Epoch 934/1000\n",
            "  96/2400 [>.............................] - ETA: 1s - loss: 0.2865 - acc: 0.9167"
          ],
          "name": "stdout"
        },
        {
          "output_type": "stream",
          "text": [
            "2400/2400 [==============================] - 2s 790us/step - loss: 0.4436 - acc: 0.8646\n",
            "Epoch 935/1000\n",
            "2400/2400 [==============================] - 2s 810us/step - loss: 0.4504 - acc: 0.8579\n",
            "Epoch 936/1000\n",
            "2400/2400 [==============================] - 2s 817us/step - loss: 0.4471 - acc: 0.8583\n",
            "Epoch 937/1000\n",
            "2400/2400 [==============================] - 2s 825us/step - loss: 0.4601 - acc: 0.8546\n",
            "Epoch 938/1000\n",
            "2400/2400 [==============================] - 2s 826us/step - loss: 0.4201 - acc: 0.8671\n",
            "Epoch 939/1000\n",
            "2400/2400 [==============================] - 2s 908us/step - loss: 0.4384 - acc: 0.8658\n",
            "Epoch 940/1000\n",
            "2144/2400 [=========================>....] - ETA: 0s - loss: 0.4506 - acc: 0.8573"
          ],
          "name": "stdout"
        },
        {
          "output_type": "stream",
          "text": [
            "2400/2400 [==============================] - 2s 912us/step - loss: 0.4410 - acc: 0.8608\n",
            "Epoch 941/1000\n",
            "2400/2400 [==============================] - 2s 919us/step - loss: 0.4347 - acc: 0.8621\n",
            "Epoch 942/1000\n",
            "2400/2400 [==============================] - 2s 911us/step - loss: 0.4479 - acc: 0.8646\n",
            "Epoch 943/1000\n",
            "2400/2400 [==============================] - 2s 907us/step - loss: 0.4705 - acc: 0.8496\n",
            "Epoch 944/1000\n",
            "2400/2400 [==============================] - 2s 902us/step - loss: 0.4536 - acc: 0.8571\n",
            "Epoch 945/1000\n",
            "2400/2400 [==============================] - 2s 911us/step - loss: 0.4298 - acc: 0.8642\n",
            "Epoch 946/1000\n",
            "2144/2400 [=========================>....] - ETA: 0s - loss: 0.4328 - acc: 0.8615"
          ],
          "name": "stdout"
        },
        {
          "output_type": "stream",
          "text": [
            "2400/2400 [==============================] - 2s 936us/step - loss: 0.4360 - acc: 0.8608\n",
            "Epoch 947/1000\n",
            "2400/2400 [==============================] - 2s 918us/step - loss: 0.4538 - acc: 0.8575\n",
            "Epoch 948/1000\n",
            "2400/2400 [==============================] - 2s 923us/step - loss: 0.4259 - acc: 0.8646\n",
            "Epoch 949/1000\n",
            "2400/2400 [==============================] - 2s 916us/step - loss: 0.4245 - acc: 0.8650\n",
            "Epoch 950/1000\n",
            "2400/2400 [==============================] - 2s 911us/step - loss: 0.4411 - acc: 0.8592\n",
            "Epoch 951/1000\n",
            "2400/2400 [==============================] - 2s 925us/step - loss: 0.4272 - acc: 0.8688\n",
            "Epoch 952/1000\n",
            "2080/2400 [=========================>....] - ETA: 0s - loss: 0.4286 - acc: 0.8654"
          ],
          "name": "stdout"
        },
        {
          "output_type": "stream",
          "text": [
            "2400/2400 [==============================] - 2s 927us/step - loss: 0.4374 - acc: 0.8617\n",
            "Epoch 953/1000\n",
            "2400/2400 [==============================] - 2s 920us/step - loss: 0.4448 - acc: 0.8633\n",
            "Epoch 954/1000\n",
            "2400/2400 [==============================] - 2s 922us/step - loss: 0.4390 - acc: 0.8625\n",
            "Epoch 955/1000\n",
            "2400/2400 [==============================] - 2s 938us/step - loss: 0.4348 - acc: 0.8621\n",
            "Epoch 956/1000\n",
            "2400/2400 [==============================] - 2s 933us/step - loss: 0.4572 - acc: 0.8583\n",
            "Epoch 957/1000\n",
            "2400/2400 [==============================] - 2s 924us/step - loss: 0.4322 - acc: 0.8637\n",
            "Epoch 958/1000\n",
            "2080/2400 [=========================>....] - ETA: 0s - loss: 0.4267 - acc: 0.8697"
          ],
          "name": "stdout"
        },
        {
          "output_type": "stream",
          "text": [
            "2400/2400 [==============================] - 2s 915us/step - loss: 0.4342 - acc: 0.8633\n",
            "Epoch 959/1000\n",
            "2400/2400 [==============================] - 2s 925us/step - loss: 0.4206 - acc: 0.8704\n",
            "Epoch 960/1000\n",
            "2400/2400 [==============================] - 2s 918us/step - loss: 0.4323 - acc: 0.8679\n",
            "Epoch 961/1000\n",
            "2400/2400 [==============================] - 2s 919us/step - loss: 0.4390 - acc: 0.8612\n",
            "Epoch 962/1000\n",
            "2400/2400 [==============================] - 2s 907us/step - loss: 0.4153 - acc: 0.8725\n",
            "Epoch 963/1000\n",
            "2400/2400 [==============================] - 2s 899us/step - loss: 0.4549 - acc: 0.8612\n",
            "Epoch 964/1000\n",
            "2016/2400 [========================>.....] - ETA: 0s - loss: 0.4332 - acc: 0.8606"
          ],
          "name": "stdout"
        },
        {
          "output_type": "stream",
          "text": [
            "2400/2400 [==============================] - 2s 912us/step - loss: 0.4195 - acc: 0.8688\n",
            "Epoch 965/1000\n",
            "2400/2400 [==============================] - 2s 905us/step - loss: 0.4399 - acc: 0.8637\n",
            "Epoch 966/1000\n",
            "2400/2400 [==============================] - 2s 904us/step - loss: 0.4414 - acc: 0.8612\n",
            "Epoch 967/1000\n",
            "2400/2400 [==============================] - 2s 903us/step - loss: 0.4344 - acc: 0.8667\n",
            "Epoch 968/1000\n",
            "2400/2400 [==============================] - 2s 914us/step - loss: 0.4362 - acc: 0.8667\n",
            "Epoch 969/1000\n",
            "2400/2400 [==============================] - 2s 907us/step - loss: 0.4248 - acc: 0.8658\n",
            "Epoch 970/1000\n",
            "2080/2400 [=========================>....] - ETA: 0s - loss: 0.4082 - acc: 0.8764"
          ],
          "name": "stdout"
        },
        {
          "output_type": "stream",
          "text": [
            "2400/2400 [==============================] - 2s 909us/step - loss: 0.4124 - acc: 0.8746\n",
            "Epoch 971/1000\n",
            "2400/2400 [==============================] - 2s 898us/step - loss: 0.4295 - acc: 0.8692\n",
            "Epoch 972/1000\n",
            "2400/2400 [==============================] - 2s 900us/step - loss: 0.4397 - acc: 0.8604\n",
            "Epoch 973/1000\n",
            "2400/2400 [==============================] - 2s 911us/step - loss: 0.4328 - acc: 0.8596\n",
            "Epoch 974/1000\n",
            "2400/2400 [==============================] - 2s 922us/step - loss: 0.4548 - acc: 0.8571\n",
            "Epoch 975/1000\n",
            "2400/2400 [==============================] - 2s 904us/step - loss: 0.4282 - acc: 0.8742\n",
            "Epoch 976/1000\n",
            "2080/2400 [=========================>....] - ETA: 0s - loss: 0.4269 - acc: 0.8697"
          ],
          "name": "stdout"
        },
        {
          "output_type": "stream",
          "text": [
            "2400/2400 [==============================] - 2s 903us/step - loss: 0.4213 - acc: 0.8733\n",
            "Epoch 977/1000\n",
            "2400/2400 [==============================] - 2s 926us/step - loss: 0.4364 - acc: 0.8617\n",
            "Epoch 978/1000\n",
            "2400/2400 [==============================] - 2s 938us/step - loss: 0.4230 - acc: 0.8725\n",
            "Epoch 979/1000\n",
            "2400/2400 [==============================] - 2s 917us/step - loss: 0.4237 - acc: 0.8704\n",
            "Epoch 980/1000\n",
            "2400/2400 [==============================] - 2s 904us/step - loss: 0.4342 - acc: 0.8637\n",
            "Epoch 981/1000\n",
            "2400/2400 [==============================] - 2s 893us/step - loss: 0.4498 - acc: 0.8700\n",
            "Epoch 982/1000\n",
            "2080/2400 [=========================>....] - ETA: 0s - loss: 0.4264 - acc: 0.8620"
          ],
          "name": "stdout"
        },
        {
          "output_type": "stream",
          "text": [
            "2400/2400 [==============================] - 2s 889us/step - loss: 0.4185 - acc: 0.8650\n",
            "Epoch 983/1000\n",
            "2400/2400 [==============================] - 2s 884us/step - loss: 0.4346 - acc: 0.8642\n",
            "Epoch 984/1000\n",
            "2400/2400 [==============================] - 2s 877us/step - loss: 0.4252 - acc: 0.8688\n",
            "Epoch 985/1000\n",
            "2400/2400 [==============================] - 2s 880us/step - loss: 0.4217 - acc: 0.8733\n",
            "Epoch 986/1000\n",
            "2400/2400 [==============================] - 2s 879us/step - loss: 0.4357 - acc: 0.8625\n",
            "Epoch 987/1000\n",
            "2400/2400 [==============================] - 2s 892us/step - loss: 0.4325 - acc: 0.8654\n",
            "Epoch 988/1000\n",
            "2080/2400 [=========================>....] - ETA: 0s - loss: 0.4173 - acc: 0.8712"
          ],
          "name": "stdout"
        },
        {
          "output_type": "stream",
          "text": [
            "2400/2400 [==============================] - 2s 891us/step - loss: 0.4082 - acc: 0.8746\n",
            "Epoch 989/1000\n",
            "2400/2400 [==============================] - 2s 875us/step - loss: 0.4130 - acc: 0.8758\n",
            "Epoch 990/1000\n",
            "2400/2400 [==============================] - 2s 879us/step - loss: 0.4352 - acc: 0.8667\n",
            "Epoch 991/1000\n",
            "2400/2400 [==============================] - 2s 875us/step - loss: 0.4253 - acc: 0.8708\n",
            "Epoch 992/1000\n",
            "2400/2400 [==============================] - 2s 879us/step - loss: 0.4237 - acc: 0.8692\n",
            "Epoch 993/1000\n",
            "2400/2400 [==============================] - 2s 883us/step - loss: 0.4239 - acc: 0.8654\n",
            "Epoch 994/1000\n",
            "2080/2400 [=========================>....] - ETA: 0s - loss: 0.4074 - acc: 0.8721"
          ],
          "name": "stdout"
        },
        {
          "output_type": "stream",
          "text": [
            "2400/2400 [==============================] - 2s 880us/step - loss: 0.4155 - acc: 0.8704\n",
            "Epoch 995/1000\n",
            "2400/2400 [==============================] - 2s 883us/step - loss: 0.4278 - acc: 0.8683\n",
            "Epoch 996/1000\n",
            "2400/2400 [==============================] - 2s 890us/step - loss: 0.4255 - acc: 0.8717\n",
            "Epoch 997/1000\n",
            "2400/2400 [==============================] - 2s 891us/step - loss: 0.4141 - acc: 0.8758\n",
            "Epoch 998/1000\n",
            "2400/2400 [==============================] - 2s 889us/step - loss: 0.4158 - acc: 0.8762\n",
            "Epoch 999/1000\n",
            "2400/2400 [==============================] - 2s 887us/step - loss: 0.4352 - acc: 0.8629\n",
            "Epoch 1000/1000\n",
            "1952/2400 [=======================>......] - ETA: 0s - loss: 0.4127 - acc: 0.8781"
          ],
          "name": "stdout"
        },
        {
          "output_type": "stream",
          "text": [
            "2400/2400 [==============================] - 2s 888us/step - loss: 0.4075 - acc: 0.8792\n"
          ],
          "name": "stdout"
        },
        {
          "output_type": "error",
          "ename": "NameError",
          "evalue": "ignored",
          "traceback": [
            "\u001b[0;31m\u001b[0m",
            "\u001b[0;31mNameError\u001b[0mTraceback (most recent call last)",
            "\u001b[0;32m<ipython-input-24-16aae9ea634b>\u001b[0m in \u001b[0;36m<module>\u001b[0;34m()\u001b[0m\n\u001b[1;32m      1\u001b[0m \u001b[0my\u001b[0m \u001b[0;34m=\u001b[0m \u001b[0mmodel\u001b[0m\u001b[0;34m.\u001b[0m\u001b[0mfit\u001b[0m\u001b[0;34m(\u001b[0m\u001b[0mX_train\u001b[0m\u001b[0;34m,\u001b[0m \u001b[0my_train\u001b[0m\u001b[0;34m,\u001b[0m \u001b[0mepochs\u001b[0m\u001b[0;34m=\u001b[0m\u001b[0;36m1000\u001b[0m\u001b[0;34m)\u001b[0m\u001b[0;34m\u001b[0m\u001b[0m\n\u001b[0;32m----> 2\u001b[0;31m \u001b[0mplt\u001b[0m\u001b[0;34m.\u001b[0m\u001b[0mplot\u001b[0m\u001b[0;34m(\u001b[0m\u001b[0mhistory\u001b[0m\u001b[0;34m.\u001b[0m\u001b[0mhistory\u001b[0m\u001b[0;34m[\u001b[0m\u001b[0;34m'acc'\u001b[0m\u001b[0;34m]\u001b[0m\u001b[0;34m)\u001b[0m\u001b[0;34m\u001b[0m\u001b[0m\n\u001b[0m\u001b[1;32m      3\u001b[0m \u001b[0mplt\u001b[0m\u001b[0;34m.\u001b[0m\u001b[0mshow\u001b[0m\u001b[0;34m(\u001b[0m\u001b[0;34m)\u001b[0m\u001b[0;34m\u001b[0m\u001b[0m\n",
            "\u001b[0;31mNameError\u001b[0m: name 'history' is not defined"
          ]
        }
      ]
    },
    {
      "metadata": {
        "id": "sjAqutu2MfZf",
        "colab_type": "text"
      },
      "cell_type": "markdown",
      "source": [
        "## Step 6\n",
        "See how your model performs by uisng it for inference.\n",
        "* What is the accuracy of classification ?\n",
        "* Change your model, re-compile and test. Can you improve the accuracy of the model ?\n"
      ]
    },
    {
      "metadata": {
        "id": "5M0N76AoMfZf",
        "colab_type": "code",
        "colab": {
          "base_uri": "https://localhost:8080/",
          "height": 34
        },
        "outputId": "e8b05724-4025-430f-9191-050b1bdb568e"
      },
      "cell_type": "code",
      "source": [
        "# predict labels - use the test set for prediction\n",
        "#pred_labels = model.predict(???)\n",
        "y_pred = model.predict(X_test, verbose=1)"
      ],
      "execution_count": 26,
      "outputs": [
        {
          "output_type": "stream",
          "text": [
            "600/600 [==============================] - 0s 209us/step\n"
          ],
          "name": "stdout"
        }
      ]
    },
    {
      "metadata": {
        "id": "Xnuyx0QFMfZk",
        "colab_type": "code",
        "colab": {
          "base_uri": "https://localhost:8080/",
          "height": 231
        },
        "outputId": "ea8f8b7d-c94c-4f28-e451-008da280b5b8"
      },
      "cell_type": "code",
      "source": [
        "from sklearn.metrics import accuracy_score\n",
        "from sklearn.metrics import confusion_matrix\n",
        "\n",
        "# We need to convert the categorical array test_labels into a vector\n",
        "# in order to use it in the calculation of the confusion matrix\n",
        "mat = confusion_matrix(np.argmax(test_labels, axis=1), pred_labels)\n",
        "acc = accuracy_score(np.argmax(test_labels, axis=1), pred_labels)\n",
        "print(acc)\n",
        "print(mat)"
      ],
      "execution_count": 27,
      "outputs": [
        {
          "output_type": "error",
          "ename": "NameError",
          "evalue": "ignored",
          "traceback": [
            "\u001b[0;31m\u001b[0m",
            "\u001b[0;31mNameError\u001b[0mTraceback (most recent call last)",
            "\u001b[0;32m<ipython-input-27-6bd8ba2d776d>\u001b[0m in \u001b[0;36m<module>\u001b[0;34m()\u001b[0m\n\u001b[1;32m      4\u001b[0m \u001b[0;31m# We need to convert the categorical array test_labels into a vector\u001b[0m\u001b[0;34m\u001b[0m\u001b[0;34m\u001b[0m\u001b[0m\n\u001b[1;32m      5\u001b[0m \u001b[0;31m# in order to use it in the calculation of the confusion matrix\u001b[0m\u001b[0;34m\u001b[0m\u001b[0;34m\u001b[0m\u001b[0m\n\u001b[0;32m----> 6\u001b[0;31m \u001b[0mmat\u001b[0m \u001b[0;34m=\u001b[0m \u001b[0mconfusion_matrix\u001b[0m\u001b[0;34m(\u001b[0m\u001b[0mnp\u001b[0m\u001b[0;34m.\u001b[0m\u001b[0margmax\u001b[0m\u001b[0;34m(\u001b[0m\u001b[0mtest_labels\u001b[0m\u001b[0;34m,\u001b[0m \u001b[0maxis\u001b[0m\u001b[0;34m=\u001b[0m\u001b[0;36m1\u001b[0m\u001b[0;34m)\u001b[0m\u001b[0;34m,\u001b[0m \u001b[0mpred_labels\u001b[0m\u001b[0;34m)\u001b[0m\u001b[0;34m\u001b[0m\u001b[0m\n\u001b[0m\u001b[1;32m      7\u001b[0m \u001b[0macc\u001b[0m \u001b[0;34m=\u001b[0m \u001b[0maccuracy_score\u001b[0m\u001b[0;34m(\u001b[0m\u001b[0mnp\u001b[0m\u001b[0;34m.\u001b[0m\u001b[0margmax\u001b[0m\u001b[0;34m(\u001b[0m\u001b[0mtest_labels\u001b[0m\u001b[0;34m,\u001b[0m \u001b[0maxis\u001b[0m\u001b[0;34m=\u001b[0m\u001b[0;36m1\u001b[0m\u001b[0;34m)\u001b[0m\u001b[0;34m,\u001b[0m \u001b[0mpred_labels\u001b[0m\u001b[0;34m)\u001b[0m\u001b[0;34m\u001b[0m\u001b[0m\n\u001b[1;32m      8\u001b[0m \u001b[0;32mprint\u001b[0m\u001b[0;34m(\u001b[0m\u001b[0macc\u001b[0m\u001b[0;34m)\u001b[0m\u001b[0;34m\u001b[0m\u001b[0m\n",
            "\u001b[0;31mNameError\u001b[0m: name 'test_labels' is not defined"
          ]
        }
      ]
    },
    {
      "metadata": {
        "id": "h7RYbDzyMfZm",
        "colab_type": "code",
        "colab": {}
      },
      "cell_type": "code",
      "source": [
        "plt.figure(figsize=(8,6))\n",
        "plt.imshow(mat, cmap='hot', interpolation='nearest')\n",
        "plt.grid(False)\n",
        "plt.colorbar()\n",
        "plt.xlabel('true label')\n",
        "plt.ylabel('predicted label')\n",
        "plt.show()"
      ],
      "execution_count": 0,
      "outputs": []
    },
    {
      "metadata": {
        "id": "p6atMD6vMfZs",
        "colab_type": "text"
      },
      "cell_type": "markdown",
      "source": [
        "## Assignment\n",
        "* In Step 3 design your own network\n",
        "* Does the model perform better if you use all three RGB channels ?\n",
        "* How does the performance change when using the La*b colorspace ?\n"
      ]
    },
    {
      "metadata": {
        "id": "HQ6qvyk4qntM",
        "colab_type": "code",
        "colab": {}
      },
      "cell_type": "code",
      "source": [
        "\n",
        "# Load data as RGB\n",
        "y = np.load(os.path.join(data_dir, 'rgb01.npz'))\n",
        "labels = y['labels']\n",
        "data_rgb = y['rgb_data']\n",
        "label_str = y['label_str']\n",
        "label_str = label_str.tolist() # this is to convert label_str back to a dictionary\n",
        "y = []\n",
        "\n",
        "print(data_rgb.shape)\n",
        "for ii in range(2,6):\n",
        "    filename = os.path.join(data_dir, 'rgb0' + str(ii) + '.npz')\n",
        "    print('loading ', filename)\n",
        "    y = np.load(filename)\n",
        "    labels = np.append(labels, y['labels'], axis=0)\n",
        "    data_rgb = np.append(data_rgb, y['rgb_data'])\n",
        "    print(data_rgb.shape)\n",
        "    y = []\n",
        "\n",
        "data_rgb = data_rgb.astype('float')\n",
        "data_rgb = data_rgb.reshape(5000, 150, 150, 3)\n",
        "\n",
        "print( data_rgb.shape )\n",
        "print( labels.shape )\n",
        "\n",
        "num_images, nrows, ncols, dims = data_rgb.shape"
      ],
      "execution_count": 0,
      "outputs": []
    }
  ]
}